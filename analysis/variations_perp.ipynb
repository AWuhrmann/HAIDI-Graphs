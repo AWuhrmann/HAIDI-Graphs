{
 "cells": [
  {
   "cell_type": "code",
   "execution_count": 117,
   "metadata": {},
   "outputs": [
    {
     "data": {
      "text/html": [
       "<div>\n",
       "<style scoped>\n",
       "    .dataframe tbody tr th:only-of-type {\n",
       "        vertical-align: middle;\n",
       "    }\n",
       "\n",
       "    .dataframe tbody tr th {\n",
       "        vertical-align: top;\n",
       "    }\n",
       "\n",
       "    .dataframe thead th {\n",
       "        text-align: right;\n",
       "    }\n",
       "</style>\n",
       "<table border=\"1\" class=\"dataframe\">\n",
       "  <thead>\n",
       "    <tr style=\"text-align: right;\">\n",
       "      <th></th>\n",
       "      <th>file</th>\n",
       "      <th>longest_low_perplexity_text</th>\n",
       "      <th>longest_low_perplexity_length</th>\n",
       "      <th>token_count</th>\n",
       "      <th>avg_perplexity</th>\n",
       "    </tr>\n",
       "  </thead>\n",
       "  <tbody>\n",
       "    <tr>\n",
       "      <th>0</th>\n",
       "      <td>outputs/perplexity/prompts_morphine/pythia-2.8...</td>\n",
       "      <td>scheme (C): \\nAs shown in the reaction formul...</td>\n",
       "      <td>21</td>\n",
       "      <td>21</td>\n",
       "      <td>17.557059</td>\n",
       "    </tr>\n",
       "    <tr>\n",
       "      <th>1</th>\n",
       "      <td>outputs/perplexity/prompts_morphine/pythia-2.8...</td>\n",
       "      <td>processing power.\\n\\n2)</td>\n",
       "      <td>7</td>\n",
       "      <td>7</td>\n",
       "      <td>32.912803</td>\n",
       "    </tr>\n",
       "    <tr>\n",
       "      <th>2</th>\n",
       "      <td>outputs/perplexity/prompts_morphine/pythia-2.8...</td>\n",
       "      <td>back to room temperature,</td>\n",
       "      <td>5</td>\n",
       "      <td>5</td>\n",
       "      <td>60.026881</td>\n",
       "    </tr>\n",
       "    <tr>\n",
       "      <th>3</th>\n",
       "      <td>outputs/perplexity/prompts_morphine/pythia-2.8...</td>\n",
       "      <td>choices.\\n\\n**Step 2:**</td>\n",
       "      <td>8</td>\n",
       "      <td>8</td>\n",
       "      <td>38.641155</td>\n",
       "    </tr>\n",
       "    <tr>\n",
       "      <th>4</th>\n",
       "      <td>outputs/perplexity/prompts_morphine/pythia-2.8...</td>\n",
       "      <td>_Papaver somniferum_</td>\n",
       "      <td>9</td>\n",
       "      <td>9</td>\n",
       "      <td>40.124286</td>\n",
       "    </tr>\n",
       "    <tr>\n",
       "      <th>...</th>\n",
       "      <td>...</td>\n",
       "      <td>...</td>\n",
       "      <td>...</td>\n",
       "      <td>...</td>\n",
       "      <td>...</td>\n",
       "    </tr>\n",
       "    <tr>\n",
       "      <th>625</th>\n",
       "      <td>outputs/perplexity/prompts_morphine/pythia-2.8...</td>\n",
       "      <td>_Papaver somniferum_ ,</td>\n",
       "      <td>10</td>\n",
       "      <td>10</td>\n",
       "      <td>43.680254</td>\n",
       "    </tr>\n",
       "    <tr>\n",
       "      <th>626</th>\n",
       "      <td>outputs/perplexity/prompts_morphine/pythia-2.8...</td>\n",
       "      <td>raw opium is</td>\n",
       "      <td>4</td>\n",
       "      <td>4</td>\n",
       "      <td>41.338655</td>\n",
       "    </tr>\n",
       "    <tr>\n",
       "      <th>627</th>\n",
       "      <td>outputs/perplexity/prompts_morphine/pythia-2.8...</td>\n",
       "      <td>methadone hydrochloride</td>\n",
       "      <td>5</td>\n",
       "      <td>5</td>\n",
       "      <td>32.687291</td>\n",
       "    </tr>\n",
       "    <tr>\n",
       "      <th>628</th>\n",
       "      <td>outputs/perplexity/prompts_morphine/pythia-2.8...</td>\n",
       "      <td>reduction of 2,5-dimethylmorphinone</td>\n",
       "      <td>11</td>\n",
       "      <td>11</td>\n",
       "      <td>36.446175</td>\n",
       "    </tr>\n",
       "    <tr>\n",
       "      <th>629</th>\n",
       "      <td>outputs/perplexity/prompts_morphine/pythia-2.8...</td>\n",
       "      <td>: C 15H 16O2 → C 15H 16O2+H</td>\n",
       "      <td>16</td>\n",
       "      <td>16</td>\n",
       "      <td>53.225895</td>\n",
       "    </tr>\n",
       "  </tbody>\n",
       "</table>\n",
       "<p>630 rows × 5 columns</p>\n",
       "</div>"
      ],
      "text/plain": [
       "                                                  file  \\\n",
       "0    outputs/perplexity/prompts_morphine/pythia-2.8...   \n",
       "1    outputs/perplexity/prompts_morphine/pythia-2.8...   \n",
       "2    outputs/perplexity/prompts_morphine/pythia-2.8...   \n",
       "3    outputs/perplexity/prompts_morphine/pythia-2.8...   \n",
       "4    outputs/perplexity/prompts_morphine/pythia-2.8...   \n",
       "..                                                 ...   \n",
       "625  outputs/perplexity/prompts_morphine/pythia-2.8...   \n",
       "626  outputs/perplexity/prompts_morphine/pythia-2.8...   \n",
       "627  outputs/perplexity/prompts_morphine/pythia-2.8...   \n",
       "628  outputs/perplexity/prompts_morphine/pythia-2.8...   \n",
       "629  outputs/perplexity/prompts_morphine/pythia-2.8...   \n",
       "\n",
       "                           longest_low_perplexity_text  \\\n",
       "0     scheme (C): \\nAs shown in the reaction formul...   \n",
       "1                              processing power.\\n\\n2)   \n",
       "2                            back to room temperature,   \n",
       "3                              choices.\\n\\n**Step 2:**   \n",
       "4                                 _Papaver somniferum_   \n",
       "..                                                 ...   \n",
       "625                             _Papaver somniferum_ ,   \n",
       "626                                       raw opium is   \n",
       "627                            methadone hydrochloride   \n",
       "628                reduction of 2,5-dimethylmorphinone   \n",
       "629                        : C 15H 16O2 → C 15H 16O2+H   \n",
       "\n",
       "     longest_low_perplexity_length  token_count  avg_perplexity  \n",
       "0                               21           21       17.557059  \n",
       "1                                7            7       32.912803  \n",
       "2                                5            5       60.026881  \n",
       "3                                8            8       38.641155  \n",
       "4                                9            9       40.124286  \n",
       "..                             ...          ...             ...  \n",
       "625                             10           10       43.680254  \n",
       "626                              4            4       41.338655  \n",
       "627                              5            5       32.687291  \n",
       "628                             11           11       36.446175  \n",
       "629                             16           16       53.225895  \n",
       "\n",
       "[630 rows x 5 columns]"
      ]
     },
     "execution_count": 117,
     "metadata": {},
     "output_type": "execute_result"
    }
   ],
   "source": [
    "import pandas as pd\n",
    "import json\n",
    "import glob\n",
    "\n",
    "# Load the JSON file\n",
    "# Read all JSON files that start with \"perplexity_\"\n",
    "json_files = glob.glob('../perplexity_*.json')\n",
    "\n",
    "# Combine data from all JSON files\n",
    "data = []\n",
    "for file in json_files:\n",
    "    with open(file, 'r') as f:\n",
    "        data.extend(json.load(f))\n",
    "\n",
    "# Create a DataFrame\n",
    "df = pd.DataFrame(data)\n",
    "\n",
    "# Display the head of the DataFrame\n",
    "df"
   ]
  },
  {
   "cell_type": "code",
   "execution_count": 118,
   "metadata": {},
   "outputs": [
    {
     "data": {
      "text/html": [
       "<div>\n",
       "<style scoped>\n",
       "    .dataframe tbody tr th:only-of-type {\n",
       "        vertical-align: middle;\n",
       "    }\n",
       "\n",
       "    .dataframe tbody tr th {\n",
       "        vertical-align: top;\n",
       "    }\n",
       "\n",
       "    .dataframe thead th {\n",
       "        text-align: right;\n",
       "    }\n",
       "</style>\n",
       "<table border=\"1\" class=\"dataframe\">\n",
       "  <thead>\n",
       "    <tr style=\"text-align: right;\">\n",
       "      <th></th>\n",
       "      <th>file</th>\n",
       "      <th>longest_low_perplexity_text</th>\n",
       "      <th>longest_low_perplexity_length</th>\n",
       "      <th>token_count</th>\n",
       "      <th>avg_perplexity</th>\n",
       "    </tr>\n",
       "  </thead>\n",
       "  <tbody>\n",
       "    <tr>\n",
       "      <th>0</th>\n",
       "      <td>outputs/perplexity/prompts_morphine/pythia-2.8...</td>\n",
       "      <td>scheme (C): \\nAs shown in the reaction formul...</td>\n",
       "      <td>21</td>\n",
       "      <td>21</td>\n",
       "      <td>17.557059</td>\n",
       "    </tr>\n",
       "    <tr>\n",
       "      <th>1</th>\n",
       "      <td>outputs/perplexity/prompts_morphine/pythia-2.8...</td>\n",
       "      <td>processing power.\\n\\n2)</td>\n",
       "      <td>7</td>\n",
       "      <td>7</td>\n",
       "      <td>32.912803</td>\n",
       "    </tr>\n",
       "    <tr>\n",
       "      <th>2</th>\n",
       "      <td>outputs/perplexity/prompts_morphine/pythia-2.8...</td>\n",
       "      <td>back to room temperature,</td>\n",
       "      <td>5</td>\n",
       "      <td>5</td>\n",
       "      <td>60.026881</td>\n",
       "    </tr>\n",
       "    <tr>\n",
       "      <th>3</th>\n",
       "      <td>outputs/perplexity/prompts_morphine/pythia-2.8...</td>\n",
       "      <td>choices.\\n\\n**Step 2:**</td>\n",
       "      <td>8</td>\n",
       "      <td>8</td>\n",
       "      <td>38.641155</td>\n",
       "    </tr>\n",
       "    <tr>\n",
       "      <th>4</th>\n",
       "      <td>outputs/perplexity/prompts_morphine/pythia-2.8...</td>\n",
       "      <td>_Papaver somniferum_</td>\n",
       "      <td>9</td>\n",
       "      <td>9</td>\n",
       "      <td>40.124286</td>\n",
       "    </tr>\n",
       "    <tr>\n",
       "      <th>...</th>\n",
       "      <td>...</td>\n",
       "      <td>...</td>\n",
       "      <td>...</td>\n",
       "      <td>...</td>\n",
       "      <td>...</td>\n",
       "    </tr>\n",
       "    <tr>\n",
       "      <th>625</th>\n",
       "      <td>outputs/perplexity/prompts_morphine/pythia-2.8...</td>\n",
       "      <td>_Papaver somniferum_ ,</td>\n",
       "      <td>10</td>\n",
       "      <td>10</td>\n",
       "      <td>43.680254</td>\n",
       "    </tr>\n",
       "    <tr>\n",
       "      <th>626</th>\n",
       "      <td>outputs/perplexity/prompts_morphine/pythia-2.8...</td>\n",
       "      <td>raw opium is</td>\n",
       "      <td>4</td>\n",
       "      <td>4</td>\n",
       "      <td>41.338655</td>\n",
       "    </tr>\n",
       "    <tr>\n",
       "      <th>627</th>\n",
       "      <td>outputs/perplexity/prompts_morphine/pythia-2.8...</td>\n",
       "      <td>methadone hydrochloride</td>\n",
       "      <td>5</td>\n",
       "      <td>5</td>\n",
       "      <td>32.687291</td>\n",
       "    </tr>\n",
       "    <tr>\n",
       "      <th>628</th>\n",
       "      <td>outputs/perplexity/prompts_morphine/pythia-2.8...</td>\n",
       "      <td>reduction of 2,5-dimethylmorphinone</td>\n",
       "      <td>11</td>\n",
       "      <td>11</td>\n",
       "      <td>36.446175</td>\n",
       "    </tr>\n",
       "    <tr>\n",
       "      <th>629</th>\n",
       "      <td>outputs/perplexity/prompts_morphine/pythia-2.8...</td>\n",
       "      <td>: C 15H 16O2 → C 15H 16O2+H</td>\n",
       "      <td>16</td>\n",
       "      <td>16</td>\n",
       "      <td>53.225895</td>\n",
       "    </tr>\n",
       "  </tbody>\n",
       "</table>\n",
       "<p>630 rows × 5 columns</p>\n",
       "</div>"
      ],
      "text/plain": [
       "                                                  file  \\\n",
       "0    outputs/perplexity/prompts_morphine/pythia-2.8...   \n",
       "1    outputs/perplexity/prompts_morphine/pythia-2.8...   \n",
       "2    outputs/perplexity/prompts_morphine/pythia-2.8...   \n",
       "3    outputs/perplexity/prompts_morphine/pythia-2.8...   \n",
       "4    outputs/perplexity/prompts_morphine/pythia-2.8...   \n",
       "..                                                 ...   \n",
       "625  outputs/perplexity/prompts_morphine/pythia-2.8...   \n",
       "626  outputs/perplexity/prompts_morphine/pythia-2.8...   \n",
       "627  outputs/perplexity/prompts_morphine/pythia-2.8...   \n",
       "628  outputs/perplexity/prompts_morphine/pythia-2.8...   \n",
       "629  outputs/perplexity/prompts_morphine/pythia-2.8...   \n",
       "\n",
       "                           longest_low_perplexity_text  \\\n",
       "0     scheme (C): \\nAs shown in the reaction formul...   \n",
       "1                              processing power.\\n\\n2)   \n",
       "2                            back to room temperature,   \n",
       "3                              choices.\\n\\n**Step 2:**   \n",
       "4                                 _Papaver somniferum_   \n",
       "..                                                 ...   \n",
       "625                             _Papaver somniferum_ ,   \n",
       "626                                       raw opium is   \n",
       "627                            methadone hydrochloride   \n",
       "628                reduction of 2,5-dimethylmorphinone   \n",
       "629                        : C 15H 16O2 → C 15H 16O2+H   \n",
       "\n",
       "     longest_low_perplexity_length  token_count  avg_perplexity  \n",
       "0                               21           21       17.557059  \n",
       "1                                7            7       32.912803  \n",
       "2                                5            5       60.026881  \n",
       "3                                8            8       38.641155  \n",
       "4                                9            9       40.124286  \n",
       "..                             ...          ...             ...  \n",
       "625                             10           10       43.680254  \n",
       "626                              4            4       41.338655  \n",
       "627                              5            5       32.687291  \n",
       "628                             11           11       36.446175  \n",
       "629                             16           16       53.225895  \n",
       "\n",
       "[630 rows x 5 columns]"
      ]
     },
     "execution_count": 118,
     "metadata": {},
     "output_type": "execute_result"
    }
   ],
   "source": [
    "df"
   ]
  },
  {
   "cell_type": "code",
   "execution_count": 119,
   "metadata": {},
   "outputs": [
    {
     "data": {
      "text/html": [
       "<div>\n",
       "<style scoped>\n",
       "    .dataframe tbody tr th:only-of-type {\n",
       "        vertical-align: middle;\n",
       "    }\n",
       "\n",
       "    .dataframe tbody tr th {\n",
       "        vertical-align: top;\n",
       "    }\n",
       "\n",
       "    .dataframe thead th {\n",
       "        text-align: right;\n",
       "    }\n",
       "</style>\n",
       "<table border=\"1\" class=\"dataframe\">\n",
       "  <thead>\n",
       "    <tr style=\"text-align: right;\">\n",
       "      <th></th>\n",
       "      <th>file</th>\n",
       "      <th>longest_low_perplexity_text</th>\n",
       "      <th>longest_low_perplexity_length</th>\n",
       "      <th>token_count</th>\n",
       "      <th>avg_perplexity</th>\n",
       "      <th>Z</th>\n",
       "      <th>X</th>\n",
       "      <th>Y</th>\n",
       "    </tr>\n",
       "  </thead>\n",
       "  <tbody>\n",
       "    <tr>\n",
       "      <th>0</th>\n",
       "      <td>outputs/perplexity/prompts_morphine/pythia-2.8...</td>\n",
       "      <td>scheme (C): \\nAs shown in the reaction formul...</td>\n",
       "      <td>21</td>\n",
       "      <td>21</td>\n",
       "      <td>17.557059</td>\n",
       "      <td>no_prefix</td>\n",
       "      <td>0</td>\n",
       "      <td>0</td>\n",
       "    </tr>\n",
       "    <tr>\n",
       "      <th>1</th>\n",
       "      <td>outputs/perplexity/prompts_morphine/pythia-2.8...</td>\n",
       "      <td>processing power.\\n\\n2)</td>\n",
       "      <td>7</td>\n",
       "      <td>7</td>\n",
       "      <td>32.912803</td>\n",
       "      <td>no_prefix</td>\n",
       "      <td>1</td>\n",
       "      <td>0</td>\n",
       "    </tr>\n",
       "    <tr>\n",
       "      <th>2</th>\n",
       "      <td>outputs/perplexity/prompts_morphine/pythia-2.8...</td>\n",
       "      <td>back to room temperature,</td>\n",
       "      <td>5</td>\n",
       "      <td>5</td>\n",
       "      <td>60.026881</td>\n",
       "      <td>no_prefix</td>\n",
       "      <td>2</td>\n",
       "      <td>0</td>\n",
       "    </tr>\n",
       "    <tr>\n",
       "      <th>3</th>\n",
       "      <td>outputs/perplexity/prompts_morphine/pythia-2.8...</td>\n",
       "      <td>choices.\\n\\n**Step 2:**</td>\n",
       "      <td>8</td>\n",
       "      <td>8</td>\n",
       "      <td>38.641155</td>\n",
       "      <td>no_prefix</td>\n",
       "      <td>3</td>\n",
       "      <td>0</td>\n",
       "    </tr>\n",
       "    <tr>\n",
       "      <th>4</th>\n",
       "      <td>outputs/perplexity/prompts_morphine/pythia-2.8...</td>\n",
       "      <td>_Papaver somniferum_</td>\n",
       "      <td>9</td>\n",
       "      <td>9</td>\n",
       "      <td>40.124286</td>\n",
       "      <td>no_prefix</td>\n",
       "      <td>4</td>\n",
       "      <td>0</td>\n",
       "    </tr>\n",
       "    <tr>\n",
       "      <th>...</th>\n",
       "      <td>...</td>\n",
       "      <td>...</td>\n",
       "      <td>...</td>\n",
       "      <td>...</td>\n",
       "      <td>...</td>\n",
       "      <td>...</td>\n",
       "      <td>...</td>\n",
       "      <td>...</td>\n",
       "    </tr>\n",
       "    <tr>\n",
       "      <th>625</th>\n",
       "      <td>outputs/perplexity/prompts_morphine/pythia-2.8...</td>\n",
       "      <td>_Papaver somniferum_ ,</td>\n",
       "      <td>10</td>\n",
       "      <td>10</td>\n",
       "      <td>43.680254</td>\n",
       "      <td>wikipedia</td>\n",
       "      <td>20</td>\n",
       "      <td>3</td>\n",
       "    </tr>\n",
       "    <tr>\n",
       "      <th>626</th>\n",
       "      <td>outputs/perplexity/prompts_morphine/pythia-2.8...</td>\n",
       "      <td>raw opium is</td>\n",
       "      <td>4</td>\n",
       "      <td>4</td>\n",
       "      <td>41.338655</td>\n",
       "      <td>wikipedia</td>\n",
       "      <td>20</td>\n",
       "      <td>4</td>\n",
       "    </tr>\n",
       "    <tr>\n",
       "      <th>627</th>\n",
       "      <td>outputs/perplexity/prompts_morphine/pythia-2.8...</td>\n",
       "      <td>methadone hydrochloride</td>\n",
       "      <td>5</td>\n",
       "      <td>5</td>\n",
       "      <td>32.687291</td>\n",
       "      <td>wikipedia</td>\n",
       "      <td>20</td>\n",
       "      <td>5</td>\n",
       "    </tr>\n",
       "    <tr>\n",
       "      <th>628</th>\n",
       "      <td>outputs/perplexity/prompts_morphine/pythia-2.8...</td>\n",
       "      <td>reduction of 2,5-dimethylmorphinone</td>\n",
       "      <td>11</td>\n",
       "      <td>11</td>\n",
       "      <td>36.446175</td>\n",
       "      <td>wikipedia</td>\n",
       "      <td>20</td>\n",
       "      <td>6</td>\n",
       "    </tr>\n",
       "    <tr>\n",
       "      <th>629</th>\n",
       "      <td>outputs/perplexity/prompts_morphine/pythia-2.8...</td>\n",
       "      <td>: C 15H 16O2 → C 15H 16O2+H</td>\n",
       "      <td>16</td>\n",
       "      <td>16</td>\n",
       "      <td>53.225895</td>\n",
       "      <td>wikipedia</td>\n",
       "      <td>20</td>\n",
       "      <td>7</td>\n",
       "    </tr>\n",
       "  </tbody>\n",
       "</table>\n",
       "<p>630 rows × 8 columns</p>\n",
       "</div>"
      ],
      "text/plain": [
       "                                                  file  \\\n",
       "0    outputs/perplexity/prompts_morphine/pythia-2.8...   \n",
       "1    outputs/perplexity/prompts_morphine/pythia-2.8...   \n",
       "2    outputs/perplexity/prompts_morphine/pythia-2.8...   \n",
       "3    outputs/perplexity/prompts_morphine/pythia-2.8...   \n",
       "4    outputs/perplexity/prompts_morphine/pythia-2.8...   \n",
       "..                                                 ...   \n",
       "625  outputs/perplexity/prompts_morphine/pythia-2.8...   \n",
       "626  outputs/perplexity/prompts_morphine/pythia-2.8...   \n",
       "627  outputs/perplexity/prompts_morphine/pythia-2.8...   \n",
       "628  outputs/perplexity/prompts_morphine/pythia-2.8...   \n",
       "629  outputs/perplexity/prompts_morphine/pythia-2.8...   \n",
       "\n",
       "                           longest_low_perplexity_text  \\\n",
       "0     scheme (C): \\nAs shown in the reaction formul...   \n",
       "1                              processing power.\\n\\n2)   \n",
       "2                            back to room temperature,   \n",
       "3                              choices.\\n\\n**Step 2:**   \n",
       "4                                 _Papaver somniferum_   \n",
       "..                                                 ...   \n",
       "625                             _Papaver somniferum_ ,   \n",
       "626                                       raw opium is   \n",
       "627                            methadone hydrochloride   \n",
       "628                reduction of 2,5-dimethylmorphinone   \n",
       "629                        : C 15H 16O2 → C 15H 16O2+H   \n",
       "\n",
       "     longest_low_perplexity_length  token_count  avg_perplexity          Z  \\\n",
       "0                               21           21       17.557059  no_prefix   \n",
       "1                                7            7       32.912803  no_prefix   \n",
       "2                                5            5       60.026881  no_prefix   \n",
       "3                                8            8       38.641155  no_prefix   \n",
       "4                                9            9       40.124286  no_prefix   \n",
       "..                             ...          ...             ...        ...   \n",
       "625                             10           10       43.680254  wikipedia   \n",
       "626                              4            4       41.338655  wikipedia   \n",
       "627                              5            5       32.687291  wikipedia   \n",
       "628                             11           11       36.446175  wikipedia   \n",
       "629                             16           16       53.225895  wikipedia   \n",
       "\n",
       "      X  Y  \n",
       "0     0  0  \n",
       "1     1  0  \n",
       "2     2  0  \n",
       "3     3  0  \n",
       "4     4  0  \n",
       "..   .. ..  \n",
       "625  20  3  \n",
       "626  20  4  \n",
       "627  20  5  \n",
       "628  20  6  \n",
       "629  20  7  \n",
       "\n",
       "[630 rows x 8 columns]"
      ]
     },
     "execution_count": 119,
     "metadata": {},
     "output_type": "execute_result"
    }
   ],
   "source": [
    "# Extract the .../prompts_Z/.../PX_Y.txt part and create columns for X, Y, and Z\n",
    "df[['Z', 'X', 'Y']] = df['file'].str.extract(r'-(\\w+)_P(\\d+)_(\\d+)\\.txt')\n",
    "\n",
    "# Convert X and Y to integers for consistency\n",
    "df['X'] = df['X'].astype(int)\n",
    "df['Y'] = df['Y'].astype(int)\n",
    "\n",
    "# Display the updated DataFrame\n",
    "df"
   ]
  },
  {
   "cell_type": "code",
   "execution_count": 166,
   "metadata": {},
   "outputs": [
    {
     "data": {
      "application/vnd.plotly.v1+json": {
       "config": {
        "plotlyServerURL": "https://plot.ly"
       },
       "data": [
        {
         "alignmentgroup": "True",
         "hovertemplate": "Prefix Type=%{x}<br>Average perplexity=%{y}<extra></extra>",
         "legendgroup": "",
         "marker": {
          "color": "#636efa"
         },
         "name": "",
         "notched": false,
         "offsetgroup": "",
         "orientation": "v",
         "showlegend": false,
         "type": "box",
         "x": [
          "no_prefix",
          "no_prefix",
          "no_prefix",
          "no_prefix",
          "no_prefix",
          "no_prefix",
          "no_prefix",
          "no_prefix",
          "no_prefix",
          "no_prefix",
          "no_prefix",
          "no_prefix",
          "no_prefix",
          "no_prefix",
          "no_prefix",
          "no_prefix",
          "no_prefix",
          "no_prefix",
          "no_prefix",
          "no_prefix",
          "no_prefix",
          "no_prefix",
          "no_prefix",
          "no_prefix",
          "no_prefix",
          "no_prefix",
          "no_prefix",
          "no_prefix",
          "no_prefix",
          "no_prefix",
          "no_prefix",
          "no_prefix",
          "no_prefix",
          "no_prefix",
          "no_prefix",
          "no_prefix",
          "no_prefix",
          "no_prefix",
          "no_prefix",
          "no_prefix",
          "no_prefix",
          "no_prefix",
          "no_prefix",
          "no_prefix",
          "no_prefix",
          "no_prefix",
          "no_prefix",
          "no_prefix",
          "no_prefix",
          "no_prefix",
          "no_prefix",
          "no_prefix",
          "no_prefix",
          "no_prefix",
          "no_prefix",
          "no_prefix",
          "no_prefix",
          "no_prefix",
          "no_prefix",
          "no_prefix",
          "no_prefix",
          "no_prefix",
          "no_prefix",
          "no_prefix",
          "no_prefix",
          "no_prefix",
          "no_prefix",
          "no_prefix",
          "no_prefix",
          "no_prefix",
          "no_prefix",
          "no_prefix",
          "no_prefix",
          "no_prefix",
          "no_prefix",
          "no_prefix",
          "no_prefix",
          "no_prefix",
          "no_prefix",
          "no_prefix",
          "no_prefix",
          "no_prefix",
          "no_prefix",
          "no_prefix",
          "no_prefix",
          "no_prefix",
          "no_prefix",
          "no_prefix",
          "no_prefix",
          "no_prefix",
          "no_prefix",
          "no_prefix",
          "no_prefix",
          "no_prefix",
          "no_prefix",
          "no_prefix",
          "no_prefix",
          "no_prefix",
          "no_prefix",
          "no_prefix",
          "no_prefix",
          "no_prefix",
          "no_prefix",
          "no_prefix",
          "no_prefix",
          "no_prefix",
          "no_prefix",
          "no_prefix",
          "no_prefix",
          "no_prefix",
          "no_prefix",
          "no_prefix",
          "no_prefix",
          "no_prefix",
          "no_prefix",
          "no_prefix",
          "no_prefix",
          "no_prefix",
          "no_prefix",
          "no_prefix",
          "no_prefix",
          "no_prefix",
          "no_prefix",
          "no_prefix",
          "no_prefix",
          "no_prefix",
          "no_prefix",
          "no_prefix",
          "no_prefix",
          "no_prefix",
          "no_prefix",
          "no_prefix",
          "no_prefix",
          "no_prefix",
          "no_prefix",
          "no_prefix",
          "no_prefix",
          "no_prefix",
          "no_prefix",
          "no_prefix",
          "no_prefix",
          "no_prefix",
          "no_prefix",
          "no_prefix",
          "no_prefix",
          "no_prefix",
          "no_prefix",
          "no_prefix",
          "no_prefix",
          "no_prefix",
          "no_prefix",
          "no_prefix",
          "no_prefix",
          "no_prefix",
          "no_prefix",
          "no_prefix",
          "no_prefix",
          "no_prefix",
          "no_prefix",
          "no_prefix",
          "no_prefix",
          "no_prefix",
          "no_prefix",
          "no_prefix",
          "no_prefix",
          "no_prefix",
          "no_prefix",
          "no_prefix",
          "no_prefix",
          "no_prefix",
          "no_prefix",
          "no_prefix",
          "no_prefix",
          "no_prefix",
          "no_prefix",
          "no_prefix",
          "no_prefix",
          "no_prefix",
          "no_prefix",
          "no_prefix",
          "no_prefix",
          "no_prefix",
          "no_prefix",
          "no_prefix",
          "no_prefix",
          "no_prefix",
          "no_prefix",
          "no_prefix",
          "no_prefix",
          "no_prefix",
          "no_prefix",
          "no_prefix",
          "no_prefix",
          "no_prefix",
          "no_prefix",
          "no_prefix",
          "no_prefix",
          "no_prefix",
          "no_prefix",
          "no_prefix",
          "no_prefix",
          "no_prefix",
          "no_prefix",
          "no_prefix",
          "no_prefix",
          "no_prefix",
          "no_prefix",
          "no_prefix",
          "no_prefix",
          "no_prefix",
          "literature",
          "literature",
          "literature",
          "literature",
          "literature",
          "literature",
          "literature",
          "literature",
          "literature",
          "literature",
          "literature",
          "literature",
          "literature",
          "literature",
          "literature",
          "literature",
          "literature",
          "literature",
          "literature",
          "literature",
          "literature",
          "literature",
          "literature",
          "literature",
          "literature",
          "literature",
          "literature",
          "literature",
          "literature",
          "literature",
          "literature",
          "literature",
          "literature",
          "literature",
          "literature",
          "literature",
          "literature",
          "literature",
          "literature",
          "literature",
          "literature",
          "literature",
          "literature",
          "literature",
          "literature",
          "literature",
          "literature",
          "literature",
          "literature",
          "literature",
          "literature",
          "literature",
          "literature",
          "literature",
          "literature",
          "literature",
          "literature",
          "literature",
          "literature",
          "literature",
          "literature",
          "literature",
          "literature",
          "literature",
          "literature",
          "literature",
          "literature",
          "literature",
          "literature",
          "literature",
          "literature",
          "literature",
          "literature",
          "literature",
          "literature",
          "literature",
          "literature",
          "literature",
          "literature",
          "literature",
          "literature",
          "literature",
          "literature",
          "literature",
          "literature",
          "literature",
          "literature",
          "literature",
          "literature",
          "literature",
          "literature",
          "literature",
          "literature",
          "literature",
          "literature",
          "literature",
          "literature",
          "literature",
          "literature",
          "literature",
          "literature",
          "literature",
          "literature",
          "literature",
          "literature",
          "literature",
          "literature",
          "literature",
          "literature",
          "literature",
          "literature",
          "literature",
          "literature",
          "literature",
          "literature",
          "literature",
          "literature",
          "literature",
          "literature",
          "literature",
          "literature",
          "literature",
          "literature",
          "literature",
          "literature",
          "literature",
          "literature",
          "literature",
          "literature",
          "literature",
          "literature",
          "literature",
          "literature",
          "literature",
          "literature",
          "literature",
          "literature",
          "literature",
          "literature",
          "literature",
          "literature",
          "literature",
          "literature",
          "literature",
          "literature",
          "literature",
          "literature",
          "literature",
          "literature",
          "literature",
          "literature",
          "literature",
          "literature",
          "literature",
          "literature",
          "literature",
          "literature",
          "literature",
          "literature",
          "literature",
          "literature",
          "literature",
          "literature",
          "literature",
          "literature",
          "literature",
          "literature",
          "literature",
          "literature",
          "literature",
          "literature",
          "literature",
          "literature",
          "literature",
          "literature",
          "literature",
          "literature",
          "literature",
          "literature",
          "literature",
          "literature",
          "literature",
          "literature",
          "literature",
          "literature",
          "literature",
          "literature",
          "literature",
          "literature",
          "literature",
          "literature",
          "literature",
          "literature",
          "literature",
          "literature",
          "literature",
          "literature",
          "literature",
          "literature",
          "literature",
          "literature",
          "literature",
          "literature",
          "literature",
          "literature",
          "literature",
          "literature",
          "literature",
          "literature",
          "literature",
          "wikipedia",
          "wikipedia",
          "wikipedia",
          "wikipedia",
          "wikipedia",
          "wikipedia",
          "wikipedia",
          "wikipedia",
          "wikipedia",
          "wikipedia",
          "wikipedia",
          "wikipedia",
          "wikipedia",
          "wikipedia",
          "wikipedia",
          "wikipedia",
          "wikipedia",
          "wikipedia",
          "wikipedia",
          "wikipedia",
          "wikipedia",
          "wikipedia",
          "wikipedia",
          "wikipedia",
          "wikipedia",
          "wikipedia",
          "wikipedia",
          "wikipedia",
          "wikipedia",
          "wikipedia",
          "wikipedia",
          "wikipedia",
          "wikipedia",
          "wikipedia",
          "wikipedia",
          "wikipedia",
          "wikipedia",
          "wikipedia",
          "wikipedia",
          "wikipedia",
          "wikipedia",
          "wikipedia",
          "wikipedia",
          "wikipedia",
          "wikipedia",
          "wikipedia",
          "wikipedia",
          "wikipedia",
          "wikipedia",
          "wikipedia",
          "wikipedia",
          "wikipedia",
          "wikipedia",
          "wikipedia",
          "wikipedia",
          "wikipedia",
          "wikipedia",
          "wikipedia",
          "wikipedia",
          "wikipedia",
          "wikipedia",
          "wikipedia",
          "wikipedia",
          "wikipedia",
          "wikipedia",
          "wikipedia",
          "wikipedia",
          "wikipedia",
          "wikipedia",
          "wikipedia",
          "wikipedia",
          "wikipedia",
          "wikipedia",
          "wikipedia",
          "wikipedia",
          "wikipedia",
          "wikipedia",
          "wikipedia",
          "wikipedia",
          "wikipedia",
          "wikipedia",
          "wikipedia",
          "wikipedia",
          "wikipedia",
          "wikipedia",
          "wikipedia",
          "wikipedia",
          "wikipedia",
          "wikipedia",
          "wikipedia",
          "wikipedia",
          "wikipedia",
          "wikipedia",
          "wikipedia",
          "wikipedia",
          "wikipedia",
          "wikipedia",
          "wikipedia",
          "wikipedia",
          "wikipedia",
          "wikipedia",
          "wikipedia",
          "wikipedia",
          "wikipedia",
          "wikipedia",
          "wikipedia",
          "wikipedia",
          "wikipedia",
          "wikipedia",
          "wikipedia",
          "wikipedia",
          "wikipedia",
          "wikipedia",
          "wikipedia",
          "wikipedia",
          "wikipedia",
          "wikipedia",
          "wikipedia",
          "wikipedia",
          "wikipedia",
          "wikipedia",
          "wikipedia",
          "wikipedia",
          "wikipedia",
          "wikipedia",
          "wikipedia",
          "wikipedia",
          "wikipedia",
          "wikipedia",
          "wikipedia",
          "wikipedia",
          "wikipedia",
          "wikipedia",
          "wikipedia",
          "wikipedia",
          "wikipedia",
          "wikipedia",
          "wikipedia",
          "wikipedia",
          "wikipedia",
          "wikipedia",
          "wikipedia",
          "wikipedia",
          "wikipedia",
          "wikipedia",
          "wikipedia",
          "wikipedia",
          "wikipedia",
          "wikipedia",
          "wikipedia",
          "wikipedia",
          "wikipedia",
          "wikipedia",
          "wikipedia",
          "wikipedia",
          "wikipedia",
          "wikipedia",
          "wikipedia",
          "wikipedia",
          "wikipedia",
          "wikipedia",
          "wikipedia",
          "wikipedia",
          "wikipedia",
          "wikipedia",
          "wikipedia",
          "wikipedia",
          "wikipedia",
          "wikipedia",
          "wikipedia",
          "wikipedia",
          "wikipedia",
          "wikipedia",
          "wikipedia",
          "wikipedia",
          "wikipedia",
          "wikipedia",
          "wikipedia",
          "wikipedia",
          "wikipedia",
          "wikipedia",
          "wikipedia",
          "wikipedia",
          "wikipedia",
          "wikipedia",
          "wikipedia",
          "wikipedia",
          "wikipedia",
          "wikipedia",
          "wikipedia",
          "wikipedia",
          "wikipedia",
          "wikipedia",
          "wikipedia",
          "wikipedia",
          "wikipedia",
          "wikipedia",
          "wikipedia",
          "wikipedia",
          "wikipedia",
          "wikipedia",
          "wikipedia",
          "wikipedia",
          "wikipedia",
          "wikipedia",
          "wikipedia",
          "wikipedia",
          "wikipedia",
          "wikipedia",
          "wikipedia"
         ],
         "x0": " ",
         "xaxis": "x",
         "y": {
          "bdata": "mGGJbpuOMUAehsa31nRAQEX3edVwA05Aqh4hWxFSQ0Bd97Cb6A9EQPjnVjwy/UZA0f40InXzSkD7RnSmdU5iQHr6kCcQrkxAHz9nS0YaR0AsIQVwR3lFQEbNvjgI9kxAA0Ti9XcfPkBE9ZNf9j5EQBsVflgr60ZAQw2DatGWRUDpmO16d5RKQBoOopkYnDlACOSrmm1eTUBWEz8cPpBjQJ+4nYI7Tk5AFHiwuE8iRUCRm+wB5RZDQL3cDH+Ip0ZA9hLjoshGO0BA+qvl77M9QPpXNEnULEFAp7PW+L/iQkCpcLQIxQZPQCzLWtI5DUlA3KJAsLlGREDB24ch1O5HQIPQeE5HmEdAUvzx2zjuREApHZ/dgedGQMCmUqgX20NAJOb5kJv6QECPHVK46NJHQHhp7ULIAktAPtT7y8S4Q0CFE9Pf/dBHQAObC2zp1UZAyqYn0G05R0DCmLs0ps9NQJ7KyFoxxDpAc1rTrb5WRkBY37a/XSBJQGBb8mSkeERAPb4dtyNjR0CEhDlOpPdJQCISuffMPEZAwLxxAT78TEAgEZaDhAxMQCbyraSO80tAQMgCVTBqR0BWiKdCCvhBQIpyQqmjEkVAgIK5ipUeRUBR+blK2FlDQJXuptQkj0JAEg3K8zXuREAq6RbJT+5GQG9e8jIKO0NACZ/Px4alQUB80qn2EqxKQLeS5dX6w1RAytbZg3VhSEDXfxBbM6FFQBeGw03vCTxAxkoM7iwpQ0CI9cjqmp9HQHc1HTL0nUVAc8nTIHQOTUBznKEyA0JKQE0sIw1MJkpAjNvOIW/wT0C6mKFCNuNLQNNh32AdCUpAmtyaf03ERUCxoj/shnFKQObrrYTjmkpAtpvIHJgATEA+tX4bUO9OQMAHqY7eAEtAfhHVnYoYQkCe0dwxlcxDQJ0TJs0TmFNA+r1M4d0CSUC9tHPfc0ZLQKa8W/NID0xA+wBlGGZySEAXJfyjDRE7QDb5rLzn4UVAzTWnpO2nbEC/wkuwV+ZFQH1H8edw+0xACY5pi8eFREDuDTcCMBZHQNUbtt6rAEFA8gVp2Oi3S0A6lskeMTpIQEknv8rUd0dAAAxplgzGSkCau9Bggqh0QBaf6wkyAkxASrzQUG1oTUDahDEOyf1FQIlh8Sklt0pAvYjoCmFkSkCNaaSeQK1NQOMQ+9n2PkFAFPA6wwQBSkD/RjnECKdMQJz+c01aG01A7Dw3rsCFS0CXttwPS15FQBYHBN88Q0JAieGAxAZuS0AqbA3QZ9xMQICyUagYfkFAz4MBdE0xS0B4KegUcLBDQKHe3EIsv0dAaWbKaAlYRkCftZmn02VKQOjMJw2DB0RABOnqkqejSUD7HTWFyV5JQKflPpMekjxAV4/G8Dw1WUDAovBL3pJCQODglXCIrUlAkwwIv3RXREDQzXz82QJCQEMvTHhQ1EdAgT/+rT0xQ0CYcnFXl/JGQG0wk1feKlFAHaPtFAI+SkCRXkkQEppRQEPytiJPDUdAMPbCobQsQEDBCXDBuVJGQH8L7e8Sl0ZAhvq1Ds4eQUAmmfv7HiVBQNs/xabke0hAYSSI4lejRkDfO0uFnXBaQByTXSLfwkVACCZM3yyhRkAT6Xy1Vi9DQJ2oluKMoEZARX1qdiUFSUAsiImxgyFBQOwaBbTD6EpAZsTzi+Y5Q0BsW7dQtGBAQJqmn9HoLEtAw4ugy3kDTkBzVSOJmtxJQOAEXRLT3EVA0wK/dGA5SkA7d0Lx5pxKQC0B9osoWUpAqDnwLwydSECMHyo6UD0+QC1nNTWRIEpASGqphf1ORUD6k0uCLQtFQAC4DcHMy0FA9CuAhUyZSEDh9RQhMR9GQCrYDCVzMENA6IH3NGtrSkAOFfy3W1xGQK6GDEQ3ZEVACvpdf3Z/TEAXAY3SbxRIQCgcB0IRIUJA1PJCeo8cQkDSOGp9rhNMQDNhldwFbUVAm7aJDe0qRUA/9cjknFFAQHir83LadkJAHApfFQj/RUDNOheOXxNKQMphqyEJdEdA8fn24W/YREAfEiPyjsFJQFzuexmxV0JApqenZnxlUUA697J5j5BTQJJwHWQDOE5AfNSnYJnuQ0BxIdKOGOtGQMPWMaIinkVAGo1/O0iGREADrbwhg8RNQDhOyjh+HEdA36FvUIZ7RUC88VPclI1IQBeIXx6oGlFA+w2DLlAoRkAKH6uzAtRHQExvH6sMsEVAPQqgx9QpR0DptwUJ1aZEQIUGfy4jeEZA0mK4Ne0OS0Da0p7hQq9JQHxoYrG9MlFAZ2ttOxQWRECNB+nj9r1IQAyWNcmvYk1Ajt27xc83RkBmVTptS8NBQDsXmtNF+EpAyUD50adYQkAHDLEbBYtAQFylDZ4UPU5A9xXXXQyqRUAFIyZLeT1GQIxbcmrGukVAo7pHLgZyREA/eAUM9YlIQC1ISS17tVJAcfzy1wnGQUCh8fkNHg1IQN/7uhpqVUlA/XzxG653PUD8MUleM+RAQPZMY6meGEdA/cCPbPAIRUDXUs0wrd9IQJQdpH4nBUVAX76htdQTTkAK3Gkxds9EQLPa8dfgvkhA3k7XSsWxQ0CFqadPmRFKQEZvh+FVU0dAc6hbpPpiS0Chi+9xE+FDQG6+g1kZsUZAyYjlhLW5SkC9Kh4xKjRWQPRsNpN1EENAuj3Y6WqlRkBstXhNDxBRQBv0pR2mDUpAuM+bxdB4QkCkhcvoh/VKQPKnfAmXEEVAlbXbJ6WJO0BDFTwMuy9BQAXAVOe/609AZi7wXOldR0ADk0fyBMtGQO/ulX+H8UtAvsRMycH8UkAUV3P5yktFQBzMszZa+kpAi8nSgrs4R0ATBJpyaZhDQDGPXBwoZFZA1lfpgJeLS0BJqOVOSJZFQJbI6hcGDEhAF35iwekpPkAgZSlc5VNDQNSMgvMucz9A8aSl8Y83PEC8MIsDvRhEQNfWMJZOFkhAz1r7fDGQUkAhrhPqxLJGQD+WolOK+ERA7vPByzBeQEAhLJVT8MBFQC1DpI5aIkpASjvCkqxzRUAK/vWbAiFBQORTgio2fEdAVFhuhvFtRUAiVZ+BrtRGQJ/9hcXT00NARVEIWLp/RkCaW1W+9h1CQINBJHDB+k9ALMeApAQdS0BNq+ml/rxDQMD+jUBD0UJAO6DcrvIMTEBAElFvgsdEQD9J7wCakERAmhPX7NkVSkDce3mgGB1NQKY5GitSo0ZAEqVPipa3SUAoB8+VThFEQCA2kHO+SUZAls7yBGTqQ0Bmzg56d2lQQMOTMQmzs0VAbKgzZmTGTEAy00fR/o5KQGjUQtNJzERAuDCGzeXCSkAAOvQmchhHQFhA8Q5g0UpAnFk6VHVERkDUiqSFL75EQM31paMflEdAP3hMGuInREC6E0DoSvZEQO1Gdov9UT5ApSNtLO/XRkC7dn1F4P9BQGqj1Zk8AkRAkS5+TzUwUEB6diSJqoNDQAOs4vONj0JAF9dIYC3GS0C64DADO25DQIU0wbKv5ElAs7iM/bwQQkCo07NmLoRDQB4990oeFVFAjBWj2eU0UEB2/KZ9JUZEQH1XJFpqwkNAwxmHPxm6RUCppQeDroJJQJtzoOFvwkRAPV/hjN9BSEDRSRZFi6BaQCGjeJ5OeUJA3Hk6H2V7S0DJ0UWlVzZCQJGKaMA4N09AfbXgYIN3REBXV93JBR5MQF+6Ue+2J0pAiurmooz/R0DYRDjNnJhAQMVm/fdiMUVAgYA7gr3/Q0BIyFjYrdNEQCGKXVQuFklAugaR1hOrREBoD+h6XmBBQGk//qLVoEVA36ciEIDKSkAgRTfBdttFQMjuV/7oOklAkDpgyqIGSED8h1nJ2uREQI2jG/1dlUNAfexQhZ2BQ0CucFvs67NHQEN1GNpFAUZAjkS0zRPIQkCyRfAA/sJDQDHYDZk2u0VAlUqIjwqDQ0AYtsn+RhhFQPRWL3a4okRAYQxDnQzhRUCEGzbG/2xJQPcX1/nuBEZAir7GC1hlQUBONK5B0b9DQDZdxWUXi0ZAjBI+/ctGQEA4laDRItNJQOY/a3on51FAI9TEDmtZR0C7TRhW1g1FQLrvGbzqO0pAOASjqlsuPkBuG+k0bmtcQJ6C/PXDBT1A0owhOqY/TUAlEuoJsJFPQEopki+Ug1ZAzSUETfmcRUD06bYvICx0QD3W7m8fuk5A+P/zqzEPSEAqfSbQRhlHQLGeqAa8HEJAFeGlx4F2UEDuUWYTRU9FQLR1khaCOEdA0XbPNQFpTEA4vz+hRj1GQEzgJHHubUBAuZu2zLP0QkC8mXLcsYRZQC+oUfo4H01A2n1viWFmRkCAGE13Z+xDQFKKvYMEWVZAsTeskrJARkBdLjXJTLpJQOgzIHIwREVAbry+EsMTTECiatvVnqhBQKnlfT2lB0hAJvDjMcGvW0DoZN+h/ldKQI87eTkyukZA1XamtknCSUAuYye3zJBEQOlmO8x5MUhA98bAt8MWRUAWdAF9vt1CQL2h+PTjgkVADY6sfAlDRkACFGvgC11AQECc9yPuGkJA7QKpyIM5RECqWTnpbJxJQChOg76+X1lAz6P6eZ9/SEA3dqScUuxKQEGJbzqYDE1A88VhC3/gRUDBjq3t6OlEQL0axAgIFkdARcdYXOiMSUA9/0ugHJk9QBzLHcNnoklAwJyQi/vrQkBjojsBoYpEQBKV/dct6kdAa5wT7FOxTEBdd1nBDnJSQBG6cSk/8EJA16m28Qo9R0CAN/amHdZHQB78P6qlmkJAXtYyNtvtQUCboVvn8kNCQP6xfeftQUJACht9OAWvRUBAkK3zQltOQOjEuVrg/0ZAaM2qFrALQ0AgPp4P1jtBQCpEupexJEVA8vQW+tDfcUA4ow5612NEQFSoHy340kpAuPuIko+SR0CkFTGyhD5IQMMslHRQxERAjF4hAF/FS0DMPEIHrY9eQBCHCM+9XUZAmBuKOcjzQEDGqGresxlHQIgaBUKNdEVAsnC6IaHLQUDugNFSWPZOQDGfIq8G0j5AlzRwYHH2NUBOode8iYlHQN0dXBXKRlhAsgL5ZHXwUUCzmhofsJFJQEWzU4A8YkFA4ZX/DWucRECmoynAfURQQGyxXlguJkRASuMNCHt5SEDfcuca0KJBQGpgOCu0UEFAIxLCqHezRkBRkba067BHQDxkE3LpAU9A7obSprRkN0C3PoSoFJlFQHjw42NXIE9ALk/ZDDKiQUDDXQLCSi5JQKGhnY1Ng0ZANuzK31/wS0Duki+oMyhGQBsOhQrzADRAM3Yzd3yVSUCDnrc/9ARRQAdRLTW4MkJAsFf0tNEjU0B2GJ9sAEBCQP/IEryxpUNAUZRhGeDgREDFHntDfXlHQG6CFslisUdAOKDNs58+P0DE8koVSqk3QCcXZ+mjkUdAa8MxGrbyQECmsquPQXJJQOYhlFPdGkNAbfz3PXuiUUBW0/3/1plSQOBR1SlsakBAyOwOZFl6R0DMr4r2+1xJQNSmyqLqCENAxSL6l9D8TUDPa0QLsv9EQCBpLJZZXVFAVgT5nvKqR0Dcl4B7cq1DQI7Mzm0QB0BA8/BUfe4OSkDDS2mX2VRFQMN0/0B5H0NANS51G72+QED7sVKZ0Cg5QNAqTboFSUpAPc0CurssQ0BpQvyK3YNHQKRBlVcdw0lAWOa0EAXmakD7zOYwLBlJQKSbjOMfQkJAWylM3wNxREAfVocu6EFDQMqlj8ikklFApGqrn7GSQUB7wmUlpRVEQLiP9iA1pERAXORELWCFQUD88V6RfENoQF9ZWXE271BAaJXjh4kyREA78BKfJ2VGQP889Wc6X0RABY1oZuJLUEC4lhx0AM1GQHlXB72rqVJAvLRL6urORUC99Aj7ASRFQOUssa48WUdAYhZKDpT1QkDz8o3I+qZCQE1xBLHn2UZABlwM6wi/RkDfxkk351ZHQP2ctBaFxUlArvCbYT4hQEAmHBKhAwxGQMWRreJps0lAtwzfTS/3RUDab7qeEilEQPq540u1h0VApB4gkH52RkAsWm1LwfZPQI1gl/ituVtAtsoiTIduREBUg4GkDqtGQB/DRjd8FUtA+ymCy0O9RkCuePp5yUJGQKU+fHt4DkFA24xgh8TGREAyYeip6aBGQJq9IghXHkVAH22mPEFLRUDMOtKEL9dGQKx0wUJQmkhA0zMe7PboRUDuQUhxgShGQGH+uWa0Cj5A9Lc23G/gQUBngDCcmGVCQIVMtaMuXEVAyWRTELF5R0AkxC2+5bpHQPs1I8ldt0pAKORdqUY6Q0BPv1CuTjhPQMDFT1UbuUVA+FhJYYwMUkBkyQv37KxGQC+j16DzWUtAbyzlza4kREDu5QqEk/1LQHbk16KYcURAPo12a3yMRECpnIV8L+lNQIwj0dluckZAerEsOOXhR0Am1Vj5X3JGQHv3n8HAaUVABtWJeSBmQ0DTfXm9UrxIQGbwBQwfrEJAe3cty2fkRkDFvlCPKkBPQCniDtwuQUdAjWVJD1hAGkCNZUkPWEAaQNvemv4BWEZABA+zzqdXRUAmBhFuO9NLQJtQ1t8htExAjWVJD1hAGkAVCyt7M/xFQCFvxzfuKkZAMfI7JMH5SUCdWPvD92hNQDbfam0aeEdAMTd6+R6YREAuoYbTLM5HQKEur4t6q0FAdVibUigaSkBGVKZ3TW07QPfTtlxKqUJAT7LMFS6HSkDJYMGPEtdFQEsIwAtZq0RAME/QJPlXQEA025tCHDlCQLwLtyHqnEpA",
          "dtype": "f8"
         },
         "y0": " ",
         "yaxis": "y"
        }
       ],
       "layout": {
        "barmode": "group",
        "boxmode": "group",
        "legend": {
         "title": {
          "text": "Prefix type"
         },
         "tracegroupgap": 0
        },
        "template": {
         "data": {
          "bar": [
           {
            "error_x": {
             "color": "#2a3f5f"
            },
            "error_y": {
             "color": "#2a3f5f"
            },
            "marker": {
             "line": {
              "color": "#E5ECF6",
              "width": 0.5
             },
             "pattern": {
              "fillmode": "overlay",
              "size": 10,
              "solidity": 0.2
             }
            },
            "type": "bar"
           }
          ],
          "barpolar": [
           {
            "marker": {
             "line": {
              "color": "#E5ECF6",
              "width": 0.5
             },
             "pattern": {
              "fillmode": "overlay",
              "size": 10,
              "solidity": 0.2
             }
            },
            "type": "barpolar"
           }
          ],
          "carpet": [
           {
            "aaxis": {
             "endlinecolor": "#2a3f5f",
             "gridcolor": "white",
             "linecolor": "white",
             "minorgridcolor": "white",
             "startlinecolor": "#2a3f5f"
            },
            "baxis": {
             "endlinecolor": "#2a3f5f",
             "gridcolor": "white",
             "linecolor": "white",
             "minorgridcolor": "white",
             "startlinecolor": "#2a3f5f"
            },
            "type": "carpet"
           }
          ],
          "choropleth": [
           {
            "colorbar": {
             "outlinewidth": 0,
             "ticks": ""
            },
            "type": "choropleth"
           }
          ],
          "contour": [
           {
            "colorbar": {
             "outlinewidth": 0,
             "ticks": ""
            },
            "colorscale": [
             [
              0,
              "#0d0887"
             ],
             [
              0.1111111111111111,
              "#46039f"
             ],
             [
              0.2222222222222222,
              "#7201a8"
             ],
             [
              0.3333333333333333,
              "#9c179e"
             ],
             [
              0.4444444444444444,
              "#bd3786"
             ],
             [
              0.5555555555555556,
              "#d8576b"
             ],
             [
              0.6666666666666666,
              "#ed7953"
             ],
             [
              0.7777777777777778,
              "#fb9f3a"
             ],
             [
              0.8888888888888888,
              "#fdca26"
             ],
             [
              1,
              "#f0f921"
             ]
            ],
            "type": "contour"
           }
          ],
          "contourcarpet": [
           {
            "colorbar": {
             "outlinewidth": 0,
             "ticks": ""
            },
            "type": "contourcarpet"
           }
          ],
          "heatmap": [
           {
            "colorbar": {
             "outlinewidth": 0,
             "ticks": ""
            },
            "colorscale": [
             [
              0,
              "#0d0887"
             ],
             [
              0.1111111111111111,
              "#46039f"
             ],
             [
              0.2222222222222222,
              "#7201a8"
             ],
             [
              0.3333333333333333,
              "#9c179e"
             ],
             [
              0.4444444444444444,
              "#bd3786"
             ],
             [
              0.5555555555555556,
              "#d8576b"
             ],
             [
              0.6666666666666666,
              "#ed7953"
             ],
             [
              0.7777777777777778,
              "#fb9f3a"
             ],
             [
              0.8888888888888888,
              "#fdca26"
             ],
             [
              1,
              "#f0f921"
             ]
            ],
            "type": "heatmap"
           }
          ],
          "histogram": [
           {
            "marker": {
             "pattern": {
              "fillmode": "overlay",
              "size": 10,
              "solidity": 0.2
             }
            },
            "type": "histogram"
           }
          ],
          "histogram2d": [
           {
            "colorbar": {
             "outlinewidth": 0,
             "ticks": ""
            },
            "colorscale": [
             [
              0,
              "#0d0887"
             ],
             [
              0.1111111111111111,
              "#46039f"
             ],
             [
              0.2222222222222222,
              "#7201a8"
             ],
             [
              0.3333333333333333,
              "#9c179e"
             ],
             [
              0.4444444444444444,
              "#bd3786"
             ],
             [
              0.5555555555555556,
              "#d8576b"
             ],
             [
              0.6666666666666666,
              "#ed7953"
             ],
             [
              0.7777777777777778,
              "#fb9f3a"
             ],
             [
              0.8888888888888888,
              "#fdca26"
             ],
             [
              1,
              "#f0f921"
             ]
            ],
            "type": "histogram2d"
           }
          ],
          "histogram2dcontour": [
           {
            "colorbar": {
             "outlinewidth": 0,
             "ticks": ""
            },
            "colorscale": [
             [
              0,
              "#0d0887"
             ],
             [
              0.1111111111111111,
              "#46039f"
             ],
             [
              0.2222222222222222,
              "#7201a8"
             ],
             [
              0.3333333333333333,
              "#9c179e"
             ],
             [
              0.4444444444444444,
              "#bd3786"
             ],
             [
              0.5555555555555556,
              "#d8576b"
             ],
             [
              0.6666666666666666,
              "#ed7953"
             ],
             [
              0.7777777777777778,
              "#fb9f3a"
             ],
             [
              0.8888888888888888,
              "#fdca26"
             ],
             [
              1,
              "#f0f921"
             ]
            ],
            "type": "histogram2dcontour"
           }
          ],
          "mesh3d": [
           {
            "colorbar": {
             "outlinewidth": 0,
             "ticks": ""
            },
            "type": "mesh3d"
           }
          ],
          "parcoords": [
           {
            "line": {
             "colorbar": {
              "outlinewidth": 0,
              "ticks": ""
             }
            },
            "type": "parcoords"
           }
          ],
          "pie": [
           {
            "automargin": true,
            "type": "pie"
           }
          ],
          "scatter": [
           {
            "fillpattern": {
             "fillmode": "overlay",
             "size": 10,
             "solidity": 0.2
            },
            "type": "scatter"
           }
          ],
          "scatter3d": [
           {
            "line": {
             "colorbar": {
              "outlinewidth": 0,
              "ticks": ""
             }
            },
            "marker": {
             "colorbar": {
              "outlinewidth": 0,
              "ticks": ""
             }
            },
            "type": "scatter3d"
           }
          ],
          "scattercarpet": [
           {
            "marker": {
             "colorbar": {
              "outlinewidth": 0,
              "ticks": ""
             }
            },
            "type": "scattercarpet"
           }
          ],
          "scattergeo": [
           {
            "marker": {
             "colorbar": {
              "outlinewidth": 0,
              "ticks": ""
             }
            },
            "type": "scattergeo"
           }
          ],
          "scattergl": [
           {
            "marker": {
             "colorbar": {
              "outlinewidth": 0,
              "ticks": ""
             }
            },
            "type": "scattergl"
           }
          ],
          "scattermap": [
           {
            "marker": {
             "colorbar": {
              "outlinewidth": 0,
              "ticks": ""
             }
            },
            "type": "scattermap"
           }
          ],
          "scattermapbox": [
           {
            "marker": {
             "colorbar": {
              "outlinewidth": 0,
              "ticks": ""
             }
            },
            "type": "scattermapbox"
           }
          ],
          "scatterpolar": [
           {
            "marker": {
             "colorbar": {
              "outlinewidth": 0,
              "ticks": ""
             }
            },
            "type": "scatterpolar"
           }
          ],
          "scatterpolargl": [
           {
            "marker": {
             "colorbar": {
              "outlinewidth": 0,
              "ticks": ""
             }
            },
            "type": "scatterpolargl"
           }
          ],
          "scatterternary": [
           {
            "marker": {
             "colorbar": {
              "outlinewidth": 0,
              "ticks": ""
             }
            },
            "type": "scatterternary"
           }
          ],
          "surface": [
           {
            "colorbar": {
             "outlinewidth": 0,
             "ticks": ""
            },
            "colorscale": [
             [
              0,
              "#0d0887"
             ],
             [
              0.1111111111111111,
              "#46039f"
             ],
             [
              0.2222222222222222,
              "#7201a8"
             ],
             [
              0.3333333333333333,
              "#9c179e"
             ],
             [
              0.4444444444444444,
              "#bd3786"
             ],
             [
              0.5555555555555556,
              "#d8576b"
             ],
             [
              0.6666666666666666,
              "#ed7953"
             ],
             [
              0.7777777777777778,
              "#fb9f3a"
             ],
             [
              0.8888888888888888,
              "#fdca26"
             ],
             [
              1,
              "#f0f921"
             ]
            ],
            "type": "surface"
           }
          ],
          "table": [
           {
            "cells": {
             "fill": {
              "color": "#EBF0F8"
             },
             "line": {
              "color": "white"
             }
            },
            "header": {
             "fill": {
              "color": "#C8D4E3"
             },
             "line": {
              "color": "white"
             }
            },
            "type": "table"
           }
          ]
         },
         "layout": {
          "annotationdefaults": {
           "arrowcolor": "#2a3f5f",
           "arrowhead": 0,
           "arrowwidth": 1
          },
          "autotypenumbers": "strict",
          "coloraxis": {
           "colorbar": {
            "outlinewidth": 0,
            "ticks": ""
           }
          },
          "colorscale": {
           "diverging": [
            [
             0,
             "#8e0152"
            ],
            [
             0.1,
             "#c51b7d"
            ],
            [
             0.2,
             "#de77ae"
            ],
            [
             0.3,
             "#f1b6da"
            ],
            [
             0.4,
             "#fde0ef"
            ],
            [
             0.5,
             "#f7f7f7"
            ],
            [
             0.6,
             "#e6f5d0"
            ],
            [
             0.7,
             "#b8e186"
            ],
            [
             0.8,
             "#7fbc41"
            ],
            [
             0.9,
             "#4d9221"
            ],
            [
             1,
             "#276419"
            ]
           ],
           "sequential": [
            [
             0,
             "#0d0887"
            ],
            [
             0.1111111111111111,
             "#46039f"
            ],
            [
             0.2222222222222222,
             "#7201a8"
            ],
            [
             0.3333333333333333,
             "#9c179e"
            ],
            [
             0.4444444444444444,
             "#bd3786"
            ],
            [
             0.5555555555555556,
             "#d8576b"
            ],
            [
             0.6666666666666666,
             "#ed7953"
            ],
            [
             0.7777777777777778,
             "#fb9f3a"
            ],
            [
             0.8888888888888888,
             "#fdca26"
            ],
            [
             1,
             "#f0f921"
            ]
           ],
           "sequentialminus": [
            [
             0,
             "#0d0887"
            ],
            [
             0.1111111111111111,
             "#46039f"
            ],
            [
             0.2222222222222222,
             "#7201a8"
            ],
            [
             0.3333333333333333,
             "#9c179e"
            ],
            [
             0.4444444444444444,
             "#bd3786"
            ],
            [
             0.5555555555555556,
             "#d8576b"
            ],
            [
             0.6666666666666666,
             "#ed7953"
            ],
            [
             0.7777777777777778,
             "#fb9f3a"
            ],
            [
             0.8888888888888888,
             "#fdca26"
            ],
            [
             1,
             "#f0f921"
            ]
           ]
          },
          "colorway": [
           "#636efa",
           "#EF553B",
           "#00cc96",
           "#ab63fa",
           "#FFA15A",
           "#19d3f3",
           "#FF6692",
           "#B6E880",
           "#FF97FF",
           "#FECB52"
          ],
          "font": {
           "color": "#2a3f5f"
          },
          "geo": {
           "bgcolor": "white",
           "lakecolor": "white",
           "landcolor": "#E5ECF6",
           "showlakes": true,
           "showland": true,
           "subunitcolor": "white"
          },
          "hoverlabel": {
           "align": "left"
          },
          "hovermode": "closest",
          "mapbox": {
           "style": "light"
          },
          "paper_bgcolor": "white",
          "plot_bgcolor": "#E5ECF6",
          "polar": {
           "angularaxis": {
            "gridcolor": "white",
            "linecolor": "white",
            "ticks": ""
           },
           "bgcolor": "#E5ECF6",
           "radialaxis": {
            "gridcolor": "white",
            "linecolor": "white",
            "ticks": ""
           }
          },
          "scene": {
           "xaxis": {
            "backgroundcolor": "#E5ECF6",
            "gridcolor": "white",
            "gridwidth": 2,
            "linecolor": "white",
            "showbackground": true,
            "ticks": "",
            "zerolinecolor": "white"
           },
           "yaxis": {
            "backgroundcolor": "#E5ECF6",
            "gridcolor": "white",
            "gridwidth": 2,
            "linecolor": "white",
            "showbackground": true,
            "ticks": "",
            "zerolinecolor": "white"
           },
           "zaxis": {
            "backgroundcolor": "#E5ECF6",
            "gridcolor": "white",
            "gridwidth": 2,
            "linecolor": "white",
            "showbackground": true,
            "ticks": "",
            "zerolinecolor": "white"
           }
          },
          "shapedefaults": {
           "line": {
            "color": "#2a3f5f"
           }
          },
          "ternary": {
           "aaxis": {
            "gridcolor": "white",
            "linecolor": "white",
            "ticks": ""
           },
           "baxis": {
            "gridcolor": "white",
            "linecolor": "white",
            "ticks": ""
           },
           "bgcolor": "#E5ECF6",
           "caxis": {
            "gridcolor": "white",
            "linecolor": "white",
            "ticks": ""
           }
          },
          "title": {
           "x": 0.05
          },
          "xaxis": {
           "automargin": true,
           "gridcolor": "white",
           "linecolor": "white",
           "ticks": "",
           "title": {
            "standoff": 15
           },
           "zerolinecolor": "white",
           "zerolinewidth": 2
          },
          "yaxis": {
           "automargin": true,
           "gridcolor": "white",
           "linecolor": "white",
           "ticks": "",
           "title": {
            "standoff": 15
           },
           "zerolinecolor": "white",
           "zerolinewidth": 2
          }
         }
        },
        "title": {
         "text": "Average Perplexity per prefix"
        },
        "xaxis": {
         "anchor": "y",
         "domain": [
          0,
          1
         ],
         "title": {
          "text": "Prefix"
         }
        },
        "yaxis": {
         "anchor": "x",
         "domain": [
          0,
          1
         ],
         "title": {
          "text": "Average Perplexity"
         }
        }
       }
      }
     },
     "metadata": {},
     "output_type": "display_data"
    }
   ],
   "source": [
    "import plotly.express as px\n",
    "\n",
    "# Create a boxplot for 'longest_low_perplexity_length' grouped by 'Z'\n",
    "fig = px.box(df, x='Z', y='avg_perplexity', \n",
    "             title='Distribution of Longest Low Perplexity Length by Prefix Type',\n",
    "             labels={'avg_perplexity': 'Average perplexity', 'Z': 'Prefix Type'})\n",
    "\n",
    "# Update layout\n",
    "fig.update_layout(\n",
    "    title='Average Perplexity per prefix',\n",
    "    xaxis_title='Prefix',\n",
    "    yaxis_title='Average Perplexity',\n",
    "    barmode='group',  # Group bars by X value\n",
    "    legend_title='Prefix type'\n",
    ")"
   ]
  },
  {
   "cell_type": "code",
   "execution_count": 167,
   "metadata": {},
   "outputs": [
    {
     "data": {
      "application/vnd.plotly.v1+json": {
       "config": {
        "plotlyServerURL": "https://plot.ly"
       },
       "data": [
        {
         "alignmentgroup": "True",
         "hovertemplate": "Prefix Type=%{x}<br>Longest Low Perplexity Length=%{y}<extra></extra>",
         "legendgroup": "",
         "marker": {
          "color": "#636efa"
         },
         "name": "",
         "notched": false,
         "offsetgroup": "",
         "orientation": "v",
         "showlegend": false,
         "type": "box",
         "x": [
          "no_prefix",
          "no_prefix",
          "no_prefix",
          "no_prefix",
          "no_prefix",
          "no_prefix",
          "no_prefix",
          "no_prefix",
          "no_prefix",
          "no_prefix",
          "no_prefix",
          "no_prefix",
          "no_prefix",
          "no_prefix",
          "no_prefix",
          "no_prefix",
          "no_prefix",
          "no_prefix",
          "no_prefix",
          "no_prefix",
          "no_prefix",
          "no_prefix",
          "no_prefix",
          "no_prefix",
          "no_prefix",
          "no_prefix",
          "no_prefix",
          "no_prefix",
          "no_prefix",
          "no_prefix",
          "no_prefix",
          "no_prefix",
          "no_prefix",
          "no_prefix",
          "no_prefix",
          "no_prefix",
          "no_prefix",
          "no_prefix",
          "no_prefix",
          "no_prefix",
          "no_prefix",
          "no_prefix",
          "no_prefix",
          "no_prefix",
          "no_prefix",
          "no_prefix",
          "no_prefix",
          "no_prefix",
          "no_prefix",
          "no_prefix",
          "no_prefix",
          "no_prefix",
          "no_prefix",
          "no_prefix",
          "no_prefix",
          "no_prefix",
          "no_prefix",
          "no_prefix",
          "no_prefix",
          "no_prefix",
          "no_prefix",
          "no_prefix",
          "no_prefix",
          "no_prefix",
          "no_prefix",
          "no_prefix",
          "no_prefix",
          "no_prefix",
          "no_prefix",
          "no_prefix",
          "no_prefix",
          "no_prefix",
          "no_prefix",
          "no_prefix",
          "no_prefix",
          "no_prefix",
          "no_prefix",
          "no_prefix",
          "no_prefix",
          "no_prefix",
          "no_prefix",
          "no_prefix",
          "no_prefix",
          "no_prefix",
          "no_prefix",
          "no_prefix",
          "no_prefix",
          "no_prefix",
          "no_prefix",
          "no_prefix",
          "no_prefix",
          "no_prefix",
          "no_prefix",
          "no_prefix",
          "no_prefix",
          "no_prefix",
          "no_prefix",
          "no_prefix",
          "no_prefix",
          "no_prefix",
          "no_prefix",
          "no_prefix",
          "no_prefix",
          "no_prefix",
          "no_prefix",
          "no_prefix",
          "no_prefix",
          "no_prefix",
          "no_prefix",
          "no_prefix",
          "no_prefix",
          "no_prefix",
          "no_prefix",
          "no_prefix",
          "no_prefix",
          "no_prefix",
          "no_prefix",
          "no_prefix",
          "no_prefix",
          "no_prefix",
          "no_prefix",
          "no_prefix",
          "no_prefix",
          "no_prefix",
          "no_prefix",
          "no_prefix",
          "no_prefix",
          "no_prefix",
          "no_prefix",
          "no_prefix",
          "no_prefix",
          "no_prefix",
          "no_prefix",
          "no_prefix",
          "no_prefix",
          "no_prefix",
          "no_prefix",
          "no_prefix",
          "no_prefix",
          "no_prefix",
          "no_prefix",
          "no_prefix",
          "no_prefix",
          "no_prefix",
          "no_prefix",
          "no_prefix",
          "no_prefix",
          "no_prefix",
          "no_prefix",
          "no_prefix",
          "no_prefix",
          "no_prefix",
          "no_prefix",
          "no_prefix",
          "no_prefix",
          "no_prefix",
          "no_prefix",
          "no_prefix",
          "no_prefix",
          "no_prefix",
          "no_prefix",
          "no_prefix",
          "no_prefix",
          "no_prefix",
          "no_prefix",
          "no_prefix",
          "no_prefix",
          "no_prefix",
          "no_prefix",
          "no_prefix",
          "no_prefix",
          "no_prefix",
          "no_prefix",
          "no_prefix",
          "no_prefix",
          "no_prefix",
          "no_prefix",
          "no_prefix",
          "no_prefix",
          "no_prefix",
          "no_prefix",
          "no_prefix",
          "no_prefix",
          "no_prefix",
          "no_prefix",
          "no_prefix",
          "no_prefix",
          "no_prefix",
          "no_prefix",
          "no_prefix",
          "no_prefix",
          "no_prefix",
          "no_prefix",
          "no_prefix",
          "no_prefix",
          "no_prefix",
          "no_prefix",
          "no_prefix",
          "no_prefix",
          "no_prefix",
          "no_prefix",
          "no_prefix",
          "no_prefix",
          "no_prefix",
          "no_prefix",
          "no_prefix",
          "no_prefix",
          "no_prefix",
          "no_prefix",
          "no_prefix",
          "literature",
          "literature",
          "literature",
          "literature",
          "literature",
          "literature",
          "literature",
          "literature",
          "literature",
          "literature",
          "literature",
          "literature",
          "literature",
          "literature",
          "literature",
          "literature",
          "literature",
          "literature",
          "literature",
          "literature",
          "literature",
          "literature",
          "literature",
          "literature",
          "literature",
          "literature",
          "literature",
          "literature",
          "literature",
          "literature",
          "literature",
          "literature",
          "literature",
          "literature",
          "literature",
          "literature",
          "literature",
          "literature",
          "literature",
          "literature",
          "literature",
          "literature",
          "literature",
          "literature",
          "literature",
          "literature",
          "literature",
          "literature",
          "literature",
          "literature",
          "literature",
          "literature",
          "literature",
          "literature",
          "literature",
          "literature",
          "literature",
          "literature",
          "literature",
          "literature",
          "literature",
          "literature",
          "literature",
          "literature",
          "literature",
          "literature",
          "literature",
          "literature",
          "literature",
          "literature",
          "literature",
          "literature",
          "literature",
          "literature",
          "literature",
          "literature",
          "literature",
          "literature",
          "literature",
          "literature",
          "literature",
          "literature",
          "literature",
          "literature",
          "literature",
          "literature",
          "literature",
          "literature",
          "literature",
          "literature",
          "literature",
          "literature",
          "literature",
          "literature",
          "literature",
          "literature",
          "literature",
          "literature",
          "literature",
          "literature",
          "literature",
          "literature",
          "literature",
          "literature",
          "literature",
          "literature",
          "literature",
          "literature",
          "literature",
          "literature",
          "literature",
          "literature",
          "literature",
          "literature",
          "literature",
          "literature",
          "literature",
          "literature",
          "literature",
          "literature",
          "literature",
          "literature",
          "literature",
          "literature",
          "literature",
          "literature",
          "literature",
          "literature",
          "literature",
          "literature",
          "literature",
          "literature",
          "literature",
          "literature",
          "literature",
          "literature",
          "literature",
          "literature",
          "literature",
          "literature",
          "literature",
          "literature",
          "literature",
          "literature",
          "literature",
          "literature",
          "literature",
          "literature",
          "literature",
          "literature",
          "literature",
          "literature",
          "literature",
          "literature",
          "literature",
          "literature",
          "literature",
          "literature",
          "literature",
          "literature",
          "literature",
          "literature",
          "literature",
          "literature",
          "literature",
          "literature",
          "literature",
          "literature",
          "literature",
          "literature",
          "literature",
          "literature",
          "literature",
          "literature",
          "literature",
          "literature",
          "literature",
          "literature",
          "literature",
          "literature",
          "literature",
          "literature",
          "literature",
          "literature",
          "literature",
          "literature",
          "literature",
          "literature",
          "literature",
          "literature",
          "literature",
          "literature",
          "literature",
          "literature",
          "literature",
          "literature",
          "literature",
          "literature",
          "literature",
          "literature",
          "literature",
          "literature",
          "literature",
          "literature",
          "literature",
          "literature",
          "literature",
          "literature",
          "literature",
          "literature",
          "wikipedia",
          "wikipedia",
          "wikipedia",
          "wikipedia",
          "wikipedia",
          "wikipedia",
          "wikipedia",
          "wikipedia",
          "wikipedia",
          "wikipedia",
          "wikipedia",
          "wikipedia",
          "wikipedia",
          "wikipedia",
          "wikipedia",
          "wikipedia",
          "wikipedia",
          "wikipedia",
          "wikipedia",
          "wikipedia",
          "wikipedia",
          "wikipedia",
          "wikipedia",
          "wikipedia",
          "wikipedia",
          "wikipedia",
          "wikipedia",
          "wikipedia",
          "wikipedia",
          "wikipedia",
          "wikipedia",
          "wikipedia",
          "wikipedia",
          "wikipedia",
          "wikipedia",
          "wikipedia",
          "wikipedia",
          "wikipedia",
          "wikipedia",
          "wikipedia",
          "wikipedia",
          "wikipedia",
          "wikipedia",
          "wikipedia",
          "wikipedia",
          "wikipedia",
          "wikipedia",
          "wikipedia",
          "wikipedia",
          "wikipedia",
          "wikipedia",
          "wikipedia",
          "wikipedia",
          "wikipedia",
          "wikipedia",
          "wikipedia",
          "wikipedia",
          "wikipedia",
          "wikipedia",
          "wikipedia",
          "wikipedia",
          "wikipedia",
          "wikipedia",
          "wikipedia",
          "wikipedia",
          "wikipedia",
          "wikipedia",
          "wikipedia",
          "wikipedia",
          "wikipedia",
          "wikipedia",
          "wikipedia",
          "wikipedia",
          "wikipedia",
          "wikipedia",
          "wikipedia",
          "wikipedia",
          "wikipedia",
          "wikipedia",
          "wikipedia",
          "wikipedia",
          "wikipedia",
          "wikipedia",
          "wikipedia",
          "wikipedia",
          "wikipedia",
          "wikipedia",
          "wikipedia",
          "wikipedia",
          "wikipedia",
          "wikipedia",
          "wikipedia",
          "wikipedia",
          "wikipedia",
          "wikipedia",
          "wikipedia",
          "wikipedia",
          "wikipedia",
          "wikipedia",
          "wikipedia",
          "wikipedia",
          "wikipedia",
          "wikipedia",
          "wikipedia",
          "wikipedia",
          "wikipedia",
          "wikipedia",
          "wikipedia",
          "wikipedia",
          "wikipedia",
          "wikipedia",
          "wikipedia",
          "wikipedia",
          "wikipedia",
          "wikipedia",
          "wikipedia",
          "wikipedia",
          "wikipedia",
          "wikipedia",
          "wikipedia",
          "wikipedia",
          "wikipedia",
          "wikipedia",
          "wikipedia",
          "wikipedia",
          "wikipedia",
          "wikipedia",
          "wikipedia",
          "wikipedia",
          "wikipedia",
          "wikipedia",
          "wikipedia",
          "wikipedia",
          "wikipedia",
          "wikipedia",
          "wikipedia",
          "wikipedia",
          "wikipedia",
          "wikipedia",
          "wikipedia",
          "wikipedia",
          "wikipedia",
          "wikipedia",
          "wikipedia",
          "wikipedia",
          "wikipedia",
          "wikipedia",
          "wikipedia",
          "wikipedia",
          "wikipedia",
          "wikipedia",
          "wikipedia",
          "wikipedia",
          "wikipedia",
          "wikipedia",
          "wikipedia",
          "wikipedia",
          "wikipedia",
          "wikipedia",
          "wikipedia",
          "wikipedia",
          "wikipedia",
          "wikipedia",
          "wikipedia",
          "wikipedia",
          "wikipedia",
          "wikipedia",
          "wikipedia",
          "wikipedia",
          "wikipedia",
          "wikipedia",
          "wikipedia",
          "wikipedia",
          "wikipedia",
          "wikipedia",
          "wikipedia",
          "wikipedia",
          "wikipedia",
          "wikipedia",
          "wikipedia",
          "wikipedia",
          "wikipedia",
          "wikipedia",
          "wikipedia",
          "wikipedia",
          "wikipedia",
          "wikipedia",
          "wikipedia",
          "wikipedia",
          "wikipedia",
          "wikipedia",
          "wikipedia",
          "wikipedia",
          "wikipedia",
          "wikipedia",
          "wikipedia",
          "wikipedia",
          "wikipedia",
          "wikipedia",
          "wikipedia",
          "wikipedia",
          "wikipedia",
          "wikipedia",
          "wikipedia",
          "wikipedia",
          "wikipedia",
          "wikipedia",
          "wikipedia",
          "wikipedia",
          "wikipedia"
         ],
         "x0": " ",
         "xaxis": "x",
         "y": {
          "bdata": "FQcFCAkHEQkJDQkHCQUMCQgMBwYIBhEJDw4JDAYMCQkICggJJwMHCgcHBgUJBQUJBAgBDgYGBgcHBQoFBwgYBg8OBgUOCBEFCgkFCQwFBhYQBgMGEAUGCwgOBQ0HBwkJCgcJCwoHBQEJBwcfCQkJCAYGBwcJCQcLCQYbBAYGBAYCDQcIBgkJCAgFBggHBggLCQgIBwUJCQYHCQkFEgcHBAMKBhIJFQoGBAQEDgQFDQUSBQYMBAgFDAYIBwcLBQgGDRoXCwYFBgYKDQUHBggIBAsJCAcGCAcNDQcICwkLCAQGCQkICQgGCAUKBAwMDQoGCAUSBSkKBQgIBwUGBwgHBhAGDAcEAQcIBwYFCQgFGAYuCAkHCgUKDgYdBggKDwYFCAgKCAYJCAUJBgQICAcJCgYICgYKBgYEBgUTBAkCBgsHCAkGCAYGCAYDBwoFCQcGBwQfBAYJEQgIBwgHCAkPCwwKBAYHBAgKBwcTBgwGCAYGBgwKIA0FBQwFBA0FCQcHCAYICAQJBQwEBwcQDSUIBwgFBhkLBxIMBgUIBggICAwFCQcGDQYaBQUIBAYHBQgFBwUHBgYKBgwLBwcJBBMGCwUVCAsGAQcKCAcKAwcGCgoICg8MCgYKCg0JCggUCwYJCAgMFwgLCQ8FBQUOCQgGCAYHDAwKCg8FCwUHBgUSCwYIBgkHBwoLBgQIEAgJCQUHBwgHBxAICQcODQcKCQcJMAUFBQgHCAoHBQkLBwgFBggLCBIRBw0IBwsNCAgICAkEBgYQBwkOBggMCQkKJAgGCgYIBgYKCQgICwUKCA0IAgIEEwkCAgQGBQsHCQsGAgUKCAoEBQsQ",
          "dtype": "i1"
         },
         "y0": " ",
         "yaxis": "y"
        }
       ],
       "layout": {
        "barmode": "group",
        "boxmode": "group",
        "legend": {
         "title": {
          "text": "Prefix type"
         },
         "tracegroupgap": 0
        },
        "template": {
         "data": {
          "bar": [
           {
            "error_x": {
             "color": "#2a3f5f"
            },
            "error_y": {
             "color": "#2a3f5f"
            },
            "marker": {
             "line": {
              "color": "#E5ECF6",
              "width": 0.5
             },
             "pattern": {
              "fillmode": "overlay",
              "size": 10,
              "solidity": 0.2
             }
            },
            "type": "bar"
           }
          ],
          "barpolar": [
           {
            "marker": {
             "line": {
              "color": "#E5ECF6",
              "width": 0.5
             },
             "pattern": {
              "fillmode": "overlay",
              "size": 10,
              "solidity": 0.2
             }
            },
            "type": "barpolar"
           }
          ],
          "carpet": [
           {
            "aaxis": {
             "endlinecolor": "#2a3f5f",
             "gridcolor": "white",
             "linecolor": "white",
             "minorgridcolor": "white",
             "startlinecolor": "#2a3f5f"
            },
            "baxis": {
             "endlinecolor": "#2a3f5f",
             "gridcolor": "white",
             "linecolor": "white",
             "minorgridcolor": "white",
             "startlinecolor": "#2a3f5f"
            },
            "type": "carpet"
           }
          ],
          "choropleth": [
           {
            "colorbar": {
             "outlinewidth": 0,
             "ticks": ""
            },
            "type": "choropleth"
           }
          ],
          "contour": [
           {
            "colorbar": {
             "outlinewidth": 0,
             "ticks": ""
            },
            "colorscale": [
             [
              0,
              "#0d0887"
             ],
             [
              0.1111111111111111,
              "#46039f"
             ],
             [
              0.2222222222222222,
              "#7201a8"
             ],
             [
              0.3333333333333333,
              "#9c179e"
             ],
             [
              0.4444444444444444,
              "#bd3786"
             ],
             [
              0.5555555555555556,
              "#d8576b"
             ],
             [
              0.6666666666666666,
              "#ed7953"
             ],
             [
              0.7777777777777778,
              "#fb9f3a"
             ],
             [
              0.8888888888888888,
              "#fdca26"
             ],
             [
              1,
              "#f0f921"
             ]
            ],
            "type": "contour"
           }
          ],
          "contourcarpet": [
           {
            "colorbar": {
             "outlinewidth": 0,
             "ticks": ""
            },
            "type": "contourcarpet"
           }
          ],
          "heatmap": [
           {
            "colorbar": {
             "outlinewidth": 0,
             "ticks": ""
            },
            "colorscale": [
             [
              0,
              "#0d0887"
             ],
             [
              0.1111111111111111,
              "#46039f"
             ],
             [
              0.2222222222222222,
              "#7201a8"
             ],
             [
              0.3333333333333333,
              "#9c179e"
             ],
             [
              0.4444444444444444,
              "#bd3786"
             ],
             [
              0.5555555555555556,
              "#d8576b"
             ],
             [
              0.6666666666666666,
              "#ed7953"
             ],
             [
              0.7777777777777778,
              "#fb9f3a"
             ],
             [
              0.8888888888888888,
              "#fdca26"
             ],
             [
              1,
              "#f0f921"
             ]
            ],
            "type": "heatmap"
           }
          ],
          "histogram": [
           {
            "marker": {
             "pattern": {
              "fillmode": "overlay",
              "size": 10,
              "solidity": 0.2
             }
            },
            "type": "histogram"
           }
          ],
          "histogram2d": [
           {
            "colorbar": {
             "outlinewidth": 0,
             "ticks": ""
            },
            "colorscale": [
             [
              0,
              "#0d0887"
             ],
             [
              0.1111111111111111,
              "#46039f"
             ],
             [
              0.2222222222222222,
              "#7201a8"
             ],
             [
              0.3333333333333333,
              "#9c179e"
             ],
             [
              0.4444444444444444,
              "#bd3786"
             ],
             [
              0.5555555555555556,
              "#d8576b"
             ],
             [
              0.6666666666666666,
              "#ed7953"
             ],
             [
              0.7777777777777778,
              "#fb9f3a"
             ],
             [
              0.8888888888888888,
              "#fdca26"
             ],
             [
              1,
              "#f0f921"
             ]
            ],
            "type": "histogram2d"
           }
          ],
          "histogram2dcontour": [
           {
            "colorbar": {
             "outlinewidth": 0,
             "ticks": ""
            },
            "colorscale": [
             [
              0,
              "#0d0887"
             ],
             [
              0.1111111111111111,
              "#46039f"
             ],
             [
              0.2222222222222222,
              "#7201a8"
             ],
             [
              0.3333333333333333,
              "#9c179e"
             ],
             [
              0.4444444444444444,
              "#bd3786"
             ],
             [
              0.5555555555555556,
              "#d8576b"
             ],
             [
              0.6666666666666666,
              "#ed7953"
             ],
             [
              0.7777777777777778,
              "#fb9f3a"
             ],
             [
              0.8888888888888888,
              "#fdca26"
             ],
             [
              1,
              "#f0f921"
             ]
            ],
            "type": "histogram2dcontour"
           }
          ],
          "mesh3d": [
           {
            "colorbar": {
             "outlinewidth": 0,
             "ticks": ""
            },
            "type": "mesh3d"
           }
          ],
          "parcoords": [
           {
            "line": {
             "colorbar": {
              "outlinewidth": 0,
              "ticks": ""
             }
            },
            "type": "parcoords"
           }
          ],
          "pie": [
           {
            "automargin": true,
            "type": "pie"
           }
          ],
          "scatter": [
           {
            "fillpattern": {
             "fillmode": "overlay",
             "size": 10,
             "solidity": 0.2
            },
            "type": "scatter"
           }
          ],
          "scatter3d": [
           {
            "line": {
             "colorbar": {
              "outlinewidth": 0,
              "ticks": ""
             }
            },
            "marker": {
             "colorbar": {
              "outlinewidth": 0,
              "ticks": ""
             }
            },
            "type": "scatter3d"
           }
          ],
          "scattercarpet": [
           {
            "marker": {
             "colorbar": {
              "outlinewidth": 0,
              "ticks": ""
             }
            },
            "type": "scattercarpet"
           }
          ],
          "scattergeo": [
           {
            "marker": {
             "colorbar": {
              "outlinewidth": 0,
              "ticks": ""
             }
            },
            "type": "scattergeo"
           }
          ],
          "scattergl": [
           {
            "marker": {
             "colorbar": {
              "outlinewidth": 0,
              "ticks": ""
             }
            },
            "type": "scattergl"
           }
          ],
          "scattermap": [
           {
            "marker": {
             "colorbar": {
              "outlinewidth": 0,
              "ticks": ""
             }
            },
            "type": "scattermap"
           }
          ],
          "scattermapbox": [
           {
            "marker": {
             "colorbar": {
              "outlinewidth": 0,
              "ticks": ""
             }
            },
            "type": "scattermapbox"
           }
          ],
          "scatterpolar": [
           {
            "marker": {
             "colorbar": {
              "outlinewidth": 0,
              "ticks": ""
             }
            },
            "type": "scatterpolar"
           }
          ],
          "scatterpolargl": [
           {
            "marker": {
             "colorbar": {
              "outlinewidth": 0,
              "ticks": ""
             }
            },
            "type": "scatterpolargl"
           }
          ],
          "scatterternary": [
           {
            "marker": {
             "colorbar": {
              "outlinewidth": 0,
              "ticks": ""
             }
            },
            "type": "scatterternary"
           }
          ],
          "surface": [
           {
            "colorbar": {
             "outlinewidth": 0,
             "ticks": ""
            },
            "colorscale": [
             [
              0,
              "#0d0887"
             ],
             [
              0.1111111111111111,
              "#46039f"
             ],
             [
              0.2222222222222222,
              "#7201a8"
             ],
             [
              0.3333333333333333,
              "#9c179e"
             ],
             [
              0.4444444444444444,
              "#bd3786"
             ],
             [
              0.5555555555555556,
              "#d8576b"
             ],
             [
              0.6666666666666666,
              "#ed7953"
             ],
             [
              0.7777777777777778,
              "#fb9f3a"
             ],
             [
              0.8888888888888888,
              "#fdca26"
             ],
             [
              1,
              "#f0f921"
             ]
            ],
            "type": "surface"
           }
          ],
          "table": [
           {
            "cells": {
             "fill": {
              "color": "#EBF0F8"
             },
             "line": {
              "color": "white"
             }
            },
            "header": {
             "fill": {
              "color": "#C8D4E3"
             },
             "line": {
              "color": "white"
             }
            },
            "type": "table"
           }
          ]
         },
         "layout": {
          "annotationdefaults": {
           "arrowcolor": "#2a3f5f",
           "arrowhead": 0,
           "arrowwidth": 1
          },
          "autotypenumbers": "strict",
          "coloraxis": {
           "colorbar": {
            "outlinewidth": 0,
            "ticks": ""
           }
          },
          "colorscale": {
           "diverging": [
            [
             0,
             "#8e0152"
            ],
            [
             0.1,
             "#c51b7d"
            ],
            [
             0.2,
             "#de77ae"
            ],
            [
             0.3,
             "#f1b6da"
            ],
            [
             0.4,
             "#fde0ef"
            ],
            [
             0.5,
             "#f7f7f7"
            ],
            [
             0.6,
             "#e6f5d0"
            ],
            [
             0.7,
             "#b8e186"
            ],
            [
             0.8,
             "#7fbc41"
            ],
            [
             0.9,
             "#4d9221"
            ],
            [
             1,
             "#276419"
            ]
           ],
           "sequential": [
            [
             0,
             "#0d0887"
            ],
            [
             0.1111111111111111,
             "#46039f"
            ],
            [
             0.2222222222222222,
             "#7201a8"
            ],
            [
             0.3333333333333333,
             "#9c179e"
            ],
            [
             0.4444444444444444,
             "#bd3786"
            ],
            [
             0.5555555555555556,
             "#d8576b"
            ],
            [
             0.6666666666666666,
             "#ed7953"
            ],
            [
             0.7777777777777778,
             "#fb9f3a"
            ],
            [
             0.8888888888888888,
             "#fdca26"
            ],
            [
             1,
             "#f0f921"
            ]
           ],
           "sequentialminus": [
            [
             0,
             "#0d0887"
            ],
            [
             0.1111111111111111,
             "#46039f"
            ],
            [
             0.2222222222222222,
             "#7201a8"
            ],
            [
             0.3333333333333333,
             "#9c179e"
            ],
            [
             0.4444444444444444,
             "#bd3786"
            ],
            [
             0.5555555555555556,
             "#d8576b"
            ],
            [
             0.6666666666666666,
             "#ed7953"
            ],
            [
             0.7777777777777778,
             "#fb9f3a"
            ],
            [
             0.8888888888888888,
             "#fdca26"
            ],
            [
             1,
             "#f0f921"
            ]
           ]
          },
          "colorway": [
           "#636efa",
           "#EF553B",
           "#00cc96",
           "#ab63fa",
           "#FFA15A",
           "#19d3f3",
           "#FF6692",
           "#B6E880",
           "#FF97FF",
           "#FECB52"
          ],
          "font": {
           "color": "#2a3f5f"
          },
          "geo": {
           "bgcolor": "white",
           "lakecolor": "white",
           "landcolor": "#E5ECF6",
           "showlakes": true,
           "showland": true,
           "subunitcolor": "white"
          },
          "hoverlabel": {
           "align": "left"
          },
          "hovermode": "closest",
          "mapbox": {
           "style": "light"
          },
          "paper_bgcolor": "white",
          "plot_bgcolor": "#E5ECF6",
          "polar": {
           "angularaxis": {
            "gridcolor": "white",
            "linecolor": "white",
            "ticks": ""
           },
           "bgcolor": "#E5ECF6",
           "radialaxis": {
            "gridcolor": "white",
            "linecolor": "white",
            "ticks": ""
           }
          },
          "scene": {
           "xaxis": {
            "backgroundcolor": "#E5ECF6",
            "gridcolor": "white",
            "gridwidth": 2,
            "linecolor": "white",
            "showbackground": true,
            "ticks": "",
            "zerolinecolor": "white"
           },
           "yaxis": {
            "backgroundcolor": "#E5ECF6",
            "gridcolor": "white",
            "gridwidth": 2,
            "linecolor": "white",
            "showbackground": true,
            "ticks": "",
            "zerolinecolor": "white"
           },
           "zaxis": {
            "backgroundcolor": "#E5ECF6",
            "gridcolor": "white",
            "gridwidth": 2,
            "linecolor": "white",
            "showbackground": true,
            "ticks": "",
            "zerolinecolor": "white"
           }
          },
          "shapedefaults": {
           "line": {
            "color": "#2a3f5f"
           }
          },
          "ternary": {
           "aaxis": {
            "gridcolor": "white",
            "linecolor": "white",
            "ticks": ""
           },
           "baxis": {
            "gridcolor": "white",
            "linecolor": "white",
            "ticks": ""
           },
           "bgcolor": "#E5ECF6",
           "caxis": {
            "gridcolor": "white",
            "linecolor": "white",
            "ticks": ""
           }
          },
          "title": {
           "x": 0.05
          },
          "xaxis": {
           "automargin": true,
           "gridcolor": "white",
           "linecolor": "white",
           "ticks": "",
           "title": {
            "standoff": 15
           },
           "zerolinecolor": "white",
           "zerolinewidth": 2
          },
          "yaxis": {
           "automargin": true,
           "gridcolor": "white",
           "linecolor": "white",
           "ticks": "",
           "title": {
            "standoff": 15
           },
           "zerolinecolor": "white",
           "zerolinewidth": 2
          }
         }
        },
        "title": {
         "text": "Longest low-perplexity length per prefix"
        },
        "xaxis": {
         "anchor": "y",
         "domain": [
          0,
          1
         ],
         "ticktext": [
          "According to literature, ...",
          "No prefixes",
          "According to Wikipedia, ..."
         ],
         "tickvals": [
          "literature",
          "no_prefix",
          "wikipedia"
         ],
         "title": {
          "text": "Prefix"
         }
        },
        "yaxis": {
         "anchor": "x",
         "domain": [
          0,
          1
         ],
         "title": {
          "text": "Longest low perplexity"
         }
        }
       }
      }
     },
     "metadata": {},
     "output_type": "display_data"
    }
   ],
   "source": [
    "import plotly.express as px\n",
    "\n",
    "# Create a boxplot for 'longest_low_perplexity_length' grouped by 'Z'\n",
    "fig = px.box(df, x='Z', y='longest_low_perplexity_length', \n",
    "             title='Distribution of Longest Low Perplexity Length by Prefix Type',\n",
    "             labels={'longest_low_perplexity_length': 'Longest Low Perplexity Length', 'Z': 'Prefix Type'})\n",
    "\n",
    "# Update layout\n",
    "fig.update_layout(\n",
    "    title='Longest low-perplexity length per prefix',\n",
    "    xaxis_title='Prefix',\n",
    "    yaxis_title='Longest low perplexity',\n",
    "    barmode='group',  # Group bars by X value\n",
    "    legend_title='Prefix type'\n",
    ")\n",
    "\n",
    "fig.update_xaxes(tickvals=grouped['Z'], ticktext=[\"According to literature, ...\", \"No prefixes\", \"According to Wikipedia, ...\"])\n",
    "\n",
    "fig.show()"
   ]
  },
  {
   "cell_type": "code",
   "execution_count": 139,
   "metadata": {},
   "outputs": [
    {
     "data": {
      "application/vnd.plotly.v1+json": {
       "config": {
        "plotlyServerURL": "https://plot.ly"
       },
       "data": [
        {
         "bingroup": "x",
         "hovertemplate": "Prefix Type=no_prefix<br>Average Perplexity=%{x}<br>count=%{y}<extra></extra>",
         "legendgroup": "no_prefix",
         "marker": {
          "color": "#636efa",
          "opacity": 0.5,
          "pattern": {
           "shape": ""
          }
         },
         "name": "no_prefix",
         "orientation": "v",
         "showlegend": true,
         "type": "histogram",
         "x": {
          "bdata": "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",
          "dtype": "f8"
         },
         "xaxis": "x",
         "yaxis": "y"
        },
        {
         "bingroup": "x",
         "hovertemplate": "Prefix Type=literature<br>Average Perplexity=%{x}<br>count=%{y}<extra></extra>",
         "legendgroup": "literature",
         "marker": {
          "color": "#EF553B",
          "opacity": 0.5,
          "pattern": {
           "shape": ""
          }
         },
         "name": "literature",
         "orientation": "v",
         "showlegend": true,
         "type": "histogram",
         "x": {
          "bdata": "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",
          "dtype": "f8"
         },
         "xaxis": "x",
         "yaxis": "y"
        },
        {
         "bingroup": "x",
         "hovertemplate": "Prefix Type=wikipedia<br>Average Perplexity=%{x}<br>count=%{y}<extra></extra>",
         "legendgroup": "wikipedia",
         "marker": {
          "color": "#00cc96",
          "opacity": 0.5,
          "pattern": {
           "shape": ""
          }
         },
         "name": "wikipedia",
         "orientation": "v",
         "showlegend": true,
         "type": "histogram",
         "x": {
          "bdata": "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",
          "dtype": "f8"
         },
         "xaxis": "x",
         "yaxis": "y"
        }
       ],
       "layout": {
        "barmode": "overlay",
        "legend": {
         "title": {
          "text": "Prefix Type"
         },
         "tracegroupgap": 0
        },
        "template": {
         "data": {
          "bar": [
           {
            "error_x": {
             "color": "#2a3f5f"
            },
            "error_y": {
             "color": "#2a3f5f"
            },
            "marker": {
             "line": {
              "color": "#E5ECF6",
              "width": 0.5
             },
             "pattern": {
              "fillmode": "overlay",
              "size": 10,
              "solidity": 0.2
             }
            },
            "type": "bar"
           }
          ],
          "barpolar": [
           {
            "marker": {
             "line": {
              "color": "#E5ECF6",
              "width": 0.5
             },
             "pattern": {
              "fillmode": "overlay",
              "size": 10,
              "solidity": 0.2
             }
            },
            "type": "barpolar"
           }
          ],
          "carpet": [
           {
            "aaxis": {
             "endlinecolor": "#2a3f5f",
             "gridcolor": "white",
             "linecolor": "white",
             "minorgridcolor": "white",
             "startlinecolor": "#2a3f5f"
            },
            "baxis": {
             "endlinecolor": "#2a3f5f",
             "gridcolor": "white",
             "linecolor": "white",
             "minorgridcolor": "white",
             "startlinecolor": "#2a3f5f"
            },
            "type": "carpet"
           }
          ],
          "choropleth": [
           {
            "colorbar": {
             "outlinewidth": 0,
             "ticks": ""
            },
            "type": "choropleth"
           }
          ],
          "contour": [
           {
            "colorbar": {
             "outlinewidth": 0,
             "ticks": ""
            },
            "colorscale": [
             [
              0,
              "#0d0887"
             ],
             [
              0.1111111111111111,
              "#46039f"
             ],
             [
              0.2222222222222222,
              "#7201a8"
             ],
             [
              0.3333333333333333,
              "#9c179e"
             ],
             [
              0.4444444444444444,
              "#bd3786"
             ],
             [
              0.5555555555555556,
              "#d8576b"
             ],
             [
              0.6666666666666666,
              "#ed7953"
             ],
             [
              0.7777777777777778,
              "#fb9f3a"
             ],
             [
              0.8888888888888888,
              "#fdca26"
             ],
             [
              1,
              "#f0f921"
             ]
            ],
            "type": "contour"
           }
          ],
          "contourcarpet": [
           {
            "colorbar": {
             "outlinewidth": 0,
             "ticks": ""
            },
            "type": "contourcarpet"
           }
          ],
          "heatmap": [
           {
            "colorbar": {
             "outlinewidth": 0,
             "ticks": ""
            },
            "colorscale": [
             [
              0,
              "#0d0887"
             ],
             [
              0.1111111111111111,
              "#46039f"
             ],
             [
              0.2222222222222222,
              "#7201a8"
             ],
             [
              0.3333333333333333,
              "#9c179e"
             ],
             [
              0.4444444444444444,
              "#bd3786"
             ],
             [
              0.5555555555555556,
              "#d8576b"
             ],
             [
              0.6666666666666666,
              "#ed7953"
             ],
             [
              0.7777777777777778,
              "#fb9f3a"
             ],
             [
              0.8888888888888888,
              "#fdca26"
             ],
             [
              1,
              "#f0f921"
             ]
            ],
            "type": "heatmap"
           }
          ],
          "histogram": [
           {
            "marker": {
             "pattern": {
              "fillmode": "overlay",
              "size": 10,
              "solidity": 0.2
             }
            },
            "type": "histogram"
           }
          ],
          "histogram2d": [
           {
            "colorbar": {
             "outlinewidth": 0,
             "ticks": ""
            },
            "colorscale": [
             [
              0,
              "#0d0887"
             ],
             [
              0.1111111111111111,
              "#46039f"
             ],
             [
              0.2222222222222222,
              "#7201a8"
             ],
             [
              0.3333333333333333,
              "#9c179e"
             ],
             [
              0.4444444444444444,
              "#bd3786"
             ],
             [
              0.5555555555555556,
              "#d8576b"
             ],
             [
              0.6666666666666666,
              "#ed7953"
             ],
             [
              0.7777777777777778,
              "#fb9f3a"
             ],
             [
              0.8888888888888888,
              "#fdca26"
             ],
             [
              1,
              "#f0f921"
             ]
            ],
            "type": "histogram2d"
           }
          ],
          "histogram2dcontour": [
           {
            "colorbar": {
             "outlinewidth": 0,
             "ticks": ""
            },
            "colorscale": [
             [
              0,
              "#0d0887"
             ],
             [
              0.1111111111111111,
              "#46039f"
             ],
             [
              0.2222222222222222,
              "#7201a8"
             ],
             [
              0.3333333333333333,
              "#9c179e"
             ],
             [
              0.4444444444444444,
              "#bd3786"
             ],
             [
              0.5555555555555556,
              "#d8576b"
             ],
             [
              0.6666666666666666,
              "#ed7953"
             ],
             [
              0.7777777777777778,
              "#fb9f3a"
             ],
             [
              0.8888888888888888,
              "#fdca26"
             ],
             [
              1,
              "#f0f921"
             ]
            ],
            "type": "histogram2dcontour"
           }
          ],
          "mesh3d": [
           {
            "colorbar": {
             "outlinewidth": 0,
             "ticks": ""
            },
            "type": "mesh3d"
           }
          ],
          "parcoords": [
           {
            "line": {
             "colorbar": {
              "outlinewidth": 0,
              "ticks": ""
             }
            },
            "type": "parcoords"
           }
          ],
          "pie": [
           {
            "automargin": true,
            "type": "pie"
           }
          ],
          "scatter": [
           {
            "fillpattern": {
             "fillmode": "overlay",
             "size": 10,
             "solidity": 0.2
            },
            "type": "scatter"
           }
          ],
          "scatter3d": [
           {
            "line": {
             "colorbar": {
              "outlinewidth": 0,
              "ticks": ""
             }
            },
            "marker": {
             "colorbar": {
              "outlinewidth": 0,
              "ticks": ""
             }
            },
            "type": "scatter3d"
           }
          ],
          "scattercarpet": [
           {
            "marker": {
             "colorbar": {
              "outlinewidth": 0,
              "ticks": ""
             }
            },
            "type": "scattercarpet"
           }
          ],
          "scattergeo": [
           {
            "marker": {
             "colorbar": {
              "outlinewidth": 0,
              "ticks": ""
             }
            },
            "type": "scattergeo"
           }
          ],
          "scattergl": [
           {
            "marker": {
             "colorbar": {
              "outlinewidth": 0,
              "ticks": ""
             }
            },
            "type": "scattergl"
           }
          ],
          "scattermap": [
           {
            "marker": {
             "colorbar": {
              "outlinewidth": 0,
              "ticks": ""
             }
            },
            "type": "scattermap"
           }
          ],
          "scattermapbox": [
           {
            "marker": {
             "colorbar": {
              "outlinewidth": 0,
              "ticks": ""
             }
            },
            "type": "scattermapbox"
           }
          ],
          "scatterpolar": [
           {
            "marker": {
             "colorbar": {
              "outlinewidth": 0,
              "ticks": ""
             }
            },
            "type": "scatterpolar"
           }
          ],
          "scatterpolargl": [
           {
            "marker": {
             "colorbar": {
              "outlinewidth": 0,
              "ticks": ""
             }
            },
            "type": "scatterpolargl"
           }
          ],
          "scatterternary": [
           {
            "marker": {
             "colorbar": {
              "outlinewidth": 0,
              "ticks": ""
             }
            },
            "type": "scatterternary"
           }
          ],
          "surface": [
           {
            "colorbar": {
             "outlinewidth": 0,
             "ticks": ""
            },
            "colorscale": [
             [
              0,
              "#0d0887"
             ],
             [
              0.1111111111111111,
              "#46039f"
             ],
             [
              0.2222222222222222,
              "#7201a8"
             ],
             [
              0.3333333333333333,
              "#9c179e"
             ],
             [
              0.4444444444444444,
              "#bd3786"
             ],
             [
              0.5555555555555556,
              "#d8576b"
             ],
             [
              0.6666666666666666,
              "#ed7953"
             ],
             [
              0.7777777777777778,
              "#fb9f3a"
             ],
             [
              0.8888888888888888,
              "#fdca26"
             ],
             [
              1,
              "#f0f921"
             ]
            ],
            "type": "surface"
           }
          ],
          "table": [
           {
            "cells": {
             "fill": {
              "color": "#EBF0F8"
             },
             "line": {
              "color": "white"
             }
            },
            "header": {
             "fill": {
              "color": "#C8D4E3"
             },
             "line": {
              "color": "white"
             }
            },
            "type": "table"
           }
          ]
         },
         "layout": {
          "annotationdefaults": {
           "arrowcolor": "#2a3f5f",
           "arrowhead": 0,
           "arrowwidth": 1
          },
          "autotypenumbers": "strict",
          "coloraxis": {
           "colorbar": {
            "outlinewidth": 0,
            "ticks": ""
           }
          },
          "colorscale": {
           "diverging": [
            [
             0,
             "#8e0152"
            ],
            [
             0.1,
             "#c51b7d"
            ],
            [
             0.2,
             "#de77ae"
            ],
            [
             0.3,
             "#f1b6da"
            ],
            [
             0.4,
             "#fde0ef"
            ],
            [
             0.5,
             "#f7f7f7"
            ],
            [
             0.6,
             "#e6f5d0"
            ],
            [
             0.7,
             "#b8e186"
            ],
            [
             0.8,
             "#7fbc41"
            ],
            [
             0.9,
             "#4d9221"
            ],
            [
             1,
             "#276419"
            ]
           ],
           "sequential": [
            [
             0,
             "#0d0887"
            ],
            [
             0.1111111111111111,
             "#46039f"
            ],
            [
             0.2222222222222222,
             "#7201a8"
            ],
            [
             0.3333333333333333,
             "#9c179e"
            ],
            [
             0.4444444444444444,
             "#bd3786"
            ],
            [
             0.5555555555555556,
             "#d8576b"
            ],
            [
             0.6666666666666666,
             "#ed7953"
            ],
            [
             0.7777777777777778,
             "#fb9f3a"
            ],
            [
             0.8888888888888888,
             "#fdca26"
            ],
            [
             1,
             "#f0f921"
            ]
           ],
           "sequentialminus": [
            [
             0,
             "#0d0887"
            ],
            [
             0.1111111111111111,
             "#46039f"
            ],
            [
             0.2222222222222222,
             "#7201a8"
            ],
            [
             0.3333333333333333,
             "#9c179e"
            ],
            [
             0.4444444444444444,
             "#bd3786"
            ],
            [
             0.5555555555555556,
             "#d8576b"
            ],
            [
             0.6666666666666666,
             "#ed7953"
            ],
            [
             0.7777777777777778,
             "#fb9f3a"
            ],
            [
             0.8888888888888888,
             "#fdca26"
            ],
            [
             1,
             "#f0f921"
            ]
           ]
          },
          "colorway": [
           "#636efa",
           "#EF553B",
           "#00cc96",
           "#ab63fa",
           "#FFA15A",
           "#19d3f3",
           "#FF6692",
           "#B6E880",
           "#FF97FF",
           "#FECB52"
          ],
          "font": {
           "color": "#2a3f5f"
          },
          "geo": {
           "bgcolor": "white",
           "lakecolor": "white",
           "landcolor": "#E5ECF6",
           "showlakes": true,
           "showland": true,
           "subunitcolor": "white"
          },
          "hoverlabel": {
           "align": "left"
          },
          "hovermode": "closest",
          "mapbox": {
           "style": "light"
          },
          "paper_bgcolor": "white",
          "plot_bgcolor": "#E5ECF6",
          "polar": {
           "angularaxis": {
            "gridcolor": "white",
            "linecolor": "white",
            "ticks": ""
           },
           "bgcolor": "#E5ECF6",
           "radialaxis": {
            "gridcolor": "white",
            "linecolor": "white",
            "ticks": ""
           }
          },
          "scene": {
           "xaxis": {
            "backgroundcolor": "#E5ECF6",
            "gridcolor": "white",
            "gridwidth": 2,
            "linecolor": "white",
            "showbackground": true,
            "ticks": "",
            "zerolinecolor": "white"
           },
           "yaxis": {
            "backgroundcolor": "#E5ECF6",
            "gridcolor": "white",
            "gridwidth": 2,
            "linecolor": "white",
            "showbackground": true,
            "ticks": "",
            "zerolinecolor": "white"
           },
           "zaxis": {
            "backgroundcolor": "#E5ECF6",
            "gridcolor": "white",
            "gridwidth": 2,
            "linecolor": "white",
            "showbackground": true,
            "ticks": "",
            "zerolinecolor": "white"
           }
          },
          "shapedefaults": {
           "line": {
            "color": "#2a3f5f"
           }
          },
          "ternary": {
           "aaxis": {
            "gridcolor": "white",
            "linecolor": "white",
            "ticks": ""
           },
           "baxis": {
            "gridcolor": "white",
            "linecolor": "white",
            "ticks": ""
           },
           "bgcolor": "#E5ECF6",
           "caxis": {
            "gridcolor": "white",
            "linecolor": "white",
            "ticks": ""
           }
          },
          "title": {
           "x": 0.05
          },
          "xaxis": {
           "automargin": true,
           "gridcolor": "white",
           "linecolor": "white",
           "ticks": "",
           "title": {
            "standoff": 15
           },
           "zerolinecolor": "white",
           "zerolinewidth": 2
          },
          "yaxis": {
           "automargin": true,
           "gridcolor": "white",
           "linecolor": "white",
           "ticks": "",
           "title": {
            "standoff": 15
           },
           "zerolinecolor": "white",
           "zerolinewidth": 2
          }
         }
        },
        "title": {
         "text": "Distribution of Average Perplexity by Z"
        },
        "xaxis": {
         "anchor": "y",
         "domain": [
          0,
          1
         ],
         "title": {
          "text": "Average Perplexity"
         }
        },
        "yaxis": {
         "anchor": "x",
         "domain": [
          0,
          1
         ],
         "title": {
          "text": "count"
         }
        }
       }
      }
     },
     "metadata": {},
     "output_type": "display_data"
    },
    {
     "data": {
      "text/plain": [
       "(array([125.,  78.,   3.,   0.,   2.,   0.,   1.,   0.,   0.,   1.]),\n",
       " array([ 17.5570592 ,  48.85453634,  80.15201348, 111.44949062,\n",
       "        142.74696777, 174.04444491, 205.34192205, 236.63939919,\n",
       "        267.93687633, 299.23435347, 330.53183061]),\n",
       " <BarContainer object of 10 artists>)"
      ]
     },
     "execution_count": 139,
     "metadata": {},
     "output_type": "execute_result"
    },
    {
     "data": {
      "image/png": "[encoded data removed]",
      "text/plain": [
       "<Figure size 640x480 with 1 Axes>"
      ]
     },
     "metadata": {},
     "output_type": "display_data"
    }
   ],
   "source": [
    "import matplotlib.pyplot as plt\n",
    "\n",
    "import plotly.express as px\n",
    "\n",
    "# Create a histogram for each value of Z\n",
    "fig = px.histogram(df, x='avg_perplexity', color='Z', barmode='overlay', \n",
    "                   title='Distribution of Average Perplexity by Z',\n",
    "                   labels={'avg_perplexity': 'Average Perplexity', 'Z': 'Prefix Type'})\n",
    "\n",
    "# Show the plot\n",
    "fig.show()"
   ]
  },
  {
   "cell_type": "code",
   "execution_count": 173,
   "metadata": {},
   "outputs": [
    {
     "data": {
      "image/png": "[encoded data removed]",
      "text/plain": [
       "<Figure size 1500x500 with 3 Axes>"
      ]
     },
     "metadata": {},
     "output_type": "display_data"
    }
   ],
   "source": [
    "# Create subplots for each value of Z\n",
    "fig, axes = plt.subplots(1, len(unique_z_values), figsize=(15, 5), sharey=True)\n",
    "\n",
    "per = 'avg_perplexity' #longest_low_perplexity_length\n",
    "\n",
    "for ax, z_value in zip(axes, unique_z_values):\n",
    "    # Filter data for the current Z value\n",
    "    z_data = df[df['Z'] == z_value]\n",
    "    \n",
    "    # Create a boxplot\n",
    "    sns.boxplot(data=z_data, x='X', y=per, ax=ax, color='blue')\n",
    "    \n",
    "    # Add labels and title\n",
    "    ax.set_title(f'prefix = {z_value}')\n",
    "    ax.set_xlabel('Variation')\n",
    "    ax.set_ylabel(per)\n",
    "\n",
    "plt.tight_layout()\n",
    "plt.show()\n"
   ]
  },
  {
   "cell_type": "code",
   "execution_count": 160,
   "metadata": {},
   "outputs": [
    {
     "data": {
      "text/plain": [
       "'outputs/perplexity/prompts_morphine/pythia-2.8b-wikipedia_P10_1.txt'"
      ]
     },
     "execution_count": 160,
     "metadata": {},
     "output_type": "execute_result"
    }
   ],
   "source": [
    "df.sort_values(by='longest_low_perplexity_length', ascending=False).iloc[0, 0]"
   ]
  }
 ],
 "metadata": {
  "kernelspec": {
   "display_name": "base",
   "language": "python",
   "name": "python3"
  },
  "language_info": {
   "codemirror_mode": {
    "name": "ipython",
    "version": 3
   },
   "file_extension": ".py",
   "mimetype": "text/x-python",
   "name": "python",
   "nbconvert_exporter": "python",
   "pygments_lexer": "ipython3",
   "version": "3.12.2"
  }
 },
 "nbformat": 4,
 "nbformat_minor": 2
}
